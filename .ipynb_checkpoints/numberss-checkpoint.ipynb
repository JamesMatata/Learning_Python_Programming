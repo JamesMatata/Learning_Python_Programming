{
 "cells": [
  {
   "cell_type": "code",
   "execution_count": 12,
   "id": "6a3cf431-1217-41c1-9165-1f086fed91e9",
   "metadata": {},
   "outputs": [],
   "source": [
    "number = 23"
   ]
  },
  {
   "cell_type": "code",
   "execution_count": 18,
   "id": "3b10e480-23af-41f0-b062-d96e70ccf8dd",
   "metadata": {},
   "outputs": [
    {
     "data": {
      "text/plain": [
       "int"
      ]
     },
     "execution_count": 18,
     "metadata": {},
     "output_type": "execute_result"
    }
   ],
   "source": [
    "type(number)"
   ]
  },
  {
   "cell_type": "code",
   "execution_count": 21,
   "id": "4eb1d8db-9c74-4768-a195-30368c92d456",
   "metadata": {},
   "outputs": [],
   "source": [
    "num1 = 34\n",
    "num2 = 89"
   ]
  },
  {
   "cell_type": "code",
   "execution_count": 25,
   "id": "fb232c98-d652-4308-83f4-59ef33ab6efe",
   "metadata": {},
   "outputs": [],
   "source": [
    "# Addition\n",
    "addition = num1 + num2"
   ]
  },
  {
   "cell_type": "code",
   "execution_count": 29,
   "id": "c1630b9a-7186-4dbd-9f66-6ab6738c6677",
   "metadata": {},
   "outputs": [
    {
     "name": "stdout",
     "output_type": "stream",
     "text": [
      "Addition is 123\n"
     ]
    }
   ],
   "source": [
    "print('Addition is '+ str(addition))"
   ]
  },
  {
   "cell_type": "code",
   "execution_count": 33,
   "id": "e3229140-334d-48f3-b5ff-03aa483a2d20",
   "metadata": {},
   "outputs": [],
   "source": [
    "age = 13\n",
    "grade = 4"
   ]
  },
  {
   "cell_type": "code",
   "execution_count": 37,
   "id": "546a8b82-0583-447e-bcea-6fb9098cb81a",
   "metadata": {},
   "outputs": [
    {
     "name": "stdout",
     "output_type": "stream",
     "text": [
      "Age is 13and the grade is 4\n"
     ]
    }
   ],
   "source": [
    "print('Age is ' + str(age) + 'and the grade is ' + str(grade))"
   ]
  },
  {
   "cell_type": "code",
   "execution_count": 39,
   "id": "79afec5e-7844-498a-9798-1d1d5f686b11",
   "metadata": {},
   "outputs": [
    {
     "data": {
      "text/plain": [
       "-55"
      ]
     },
     "execution_count": 39,
     "metadata": {},
     "output_type": "execute_result"
    }
   ],
   "source": [
    "# Substaraction\n",
    "num1 - num2"
   ]
  },
  {
   "cell_type": "code",
   "execution_count": 41,
   "id": "ff482749-23fe-4c8b-8959-2d3707eda27c",
   "metadata": {},
   "outputs": [
    {
     "data": {
      "text/plain": [
       "0.38202247191011235"
      ]
     },
     "execution_count": 41,
     "metadata": {},
     "output_type": "execute_result"
    }
   ],
   "source": [
    "# Division\n",
    "num1/num2"
   ]
  },
  {
   "cell_type": "code",
   "execution_count": 43,
   "id": "7073c54c-8f52-4243-8935-2af8b85bc405",
   "metadata": {},
   "outputs": [
    {
     "data": {
      "text/plain": [
       "3026"
      ]
     },
     "execution_count": 43,
     "metadata": {},
     "output_type": "execute_result"
    }
   ],
   "source": [
    "num1*num2"
   ]
  },
  {
   "cell_type": "code",
   "execution_count": 45,
   "id": "7d316f65-ae1e-4a46-80e5-7f014ead51ee",
   "metadata": {},
   "outputs": [
    {
     "data": {
      "text/plain": [
       "0"
      ]
     },
     "execution_count": 45,
     "metadata": {},
     "output_type": "execute_result"
    }
   ],
   "source": [
    "# Floor Divison\n",
    "num1//num2"
   ]
  },
  {
   "cell_type": "code",
   "execution_count": 47,
   "id": "c7fd8781-379b-4069-b729-59442c57174b",
   "metadata": {},
   "outputs": [
    {
     "data": {
      "text/plain": [
       "34"
      ]
     },
     "execution_count": 47,
     "metadata": {},
     "output_type": "execute_result"
    }
   ],
   "source": [
    "num1%num2"
   ]
  },
  {
   "cell_type": "code",
   "execution_count": 49,
   "id": "2488b0e8-4e2d-462d-b41c-c4c85c1e5cb9",
   "metadata": {},
   "outputs": [
    {
     "data": {
      "text/plain": [
       "32"
      ]
     },
     "execution_count": 49,
     "metadata": {},
     "output_type": "execute_result"
    }
   ],
   "source": [
    "2**5"
   ]
  },
  {
   "cell_type": "code",
   "execution_count": 51,
   "id": "0eb1271c-5ffc-4ebd-93f8-84dd9cb3225a",
   "metadata": {},
   "outputs": [],
   "source": [
    "num1 = 'One'"
   ]
  },
  {
   "cell_type": "code",
   "execution_count": 53,
   "id": "2bdfd541-82cc-4773-8bb1-da85b3cd5626",
   "metadata": {},
   "outputs": [
    {
     "name": "stdout",
     "output_type": "stream",
     "text": [
      "One\n"
     ]
    }
   ],
   "source": [
    "print(num1)"
   ]
  },
  {
   "cell_type": "code",
   "execution_count": null,
   "id": "0ad6640f-3388-4b9e-95a0-c08718930c45",
   "metadata": {},
   "outputs": [],
   "source": []
  }
 ],
 "metadata": {
  "kernelspec": {
   "display_name": "Python 3 (ipykernel)",
   "language": "python",
   "name": "python3"
  },
  "language_info": {
   "codemirror_mode": {
    "name": "ipython",
    "version": 3
   },
   "file_extension": ".py",
   "mimetype": "text/x-python",
   "name": "python",
   "nbconvert_exporter": "python",
   "pygments_lexer": "ipython3",
   "version": "3.12.4"
  }
 },
 "nbformat": 4,
 "nbformat_minor": 5
}
