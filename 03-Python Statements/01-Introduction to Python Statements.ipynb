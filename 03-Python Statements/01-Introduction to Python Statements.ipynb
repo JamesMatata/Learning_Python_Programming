{
 "cells": [
  {
   "cell_type": "markdown",
   "id": "003286ba-bb20-4ae3-949d-1bb11a815738",
   "metadata": {},
   "source": [
    "## Introduction to Python Statements\n",
    "#### Statement Syntax:\n",
    "- Python statements use colons : to end the initial condition or loop header.\n",
    "- Whitespace (indentation) is used to define the scope of code blocks, making the code clean and readable.\n",
    "#### Semicolon Omission:\n",
    "- Python does not require semicolons to denote the end of statements; the end of a line automatically signifies the end of a statement.\n",
    "#### Indentation:\n",
    "- Indentation is crucial in Python. It is used to define the structure and hierarchy of the code.\n",
    "- Proper indentation ensures that code blocks are clearly defined, enhancing readability and maintainability."
   ]
  },
  {
   "cell_type": "code",
   "execution_count": 4,
   "id": "4fd7050d-bbd1-4629-82f6-4496f76e0ead",
   "metadata": {},
   "outputs": [],
   "source": [
    "# Example of Python Statements:\n",
    "a = 20\n",
    "b=30\n",
    "if a > b:\n",
    "    a = 2\n",
    "    b = 4"
   ]
  },
  {
   "cell_type": "markdown",
   "id": "c1be8fab-0220-4b4e-a2bd-edd0d3f14e2b",
   "metadata": {},
   "source": [
    "Pseudo-code Example:"
   ]
  },
  {
   "cell_type": "code",
   "execution_count": null,
   "id": "854c41f1-70a6-4c72-a523-b9849308d0de",
   "metadata": {},
   "outputs": [],
   "source": [
    "if x:\n",
    "    if y:\n",
    "        code-statement\n",
    "else:\n",
    "    another-code-statement"
   ]
  },
  {
   "cell_type": "markdown",
   "id": "c966bede-20eb-4101-8bdc-d2d01f58d707",
   "metadata": {},
   "source": [
    "This pseudo-code highlights the importance of indentation in defining nested code blocks and conditional statements."
   ]
  }
 ],
 "metadata": {
  "kernelspec": {
   "display_name": "Python 3 (ipykernel)",
   "language": "python",
   "name": "python3"
  },
  "language_info": {
   "codemirror_mode": {
    "name": "ipython",
    "version": 3
   },
   "file_extension": ".py",
   "mimetype": "text/x-python",
   "name": "python",
   "nbconvert_exporter": "python",
   "pygments_lexer": "ipython3",
   "version": "3.12.4"
  }
 },
 "nbformat": 4,
 "nbformat_minor": 5
}
