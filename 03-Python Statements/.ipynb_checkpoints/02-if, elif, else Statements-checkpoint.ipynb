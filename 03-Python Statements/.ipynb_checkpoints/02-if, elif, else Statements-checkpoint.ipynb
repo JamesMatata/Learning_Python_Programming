{
 "cells": [
  {
   "cell_type": "markdown",
   "id": "406bc511-5473-4e52-aeae-8fc0b391529a",
   "metadata": {},
   "source": [
    "## if, elif, else Statements"
   ]
  },
  {
   "cell_type": "markdown",
   "id": "33f3697c-a3c4-4bba-916a-59caf56b2204",
   "metadata": {},
   "source": [
    "<code>if</code> Statements in Python allows us to tell the computer to perform alternative actions based on a certain set of results.\n",
    "Verbally, we can imagine we are telling the computer:\n",
    "\n",
    "\"Hey if this case happens, perform some action\"\n",
    "\n",
    "We can then expand the idea further with <code>elif</code> and <code>else</code> statements, which allow us to tell the computer:\n",
    "\n",
    "\"Hey if this case happens, perform some action. Else, if another case happens, perform some other action. Else, if none of the above cases happened, perform this action.\"\n",
    "\n",
    "Let's go ahead and look at the syntax format for <code>if</code> statements to get a better idea of this:\n",
    "\n",
    "    if case1:\n",
    "        perform action1\n",
    "    elif case2:\n",
    "        perform action2\n",
    "    else: \n",
    "        perform action3perform action3"
   ]
  },
  {
   "cell_type": "markdown",
   "id": "b40e8e74-2676-405a-84cf-2b3cb23aad3b",
   "metadata": {},
   "source": [
    "Examples"
   ]
  },
  {
   "cell_type": "code",
   "execution_count": 5,
   "id": "3cb2b936-e85e-4b12-bdb3-37cd6154aa36",
   "metadata": {},
   "outputs": [
    {
     "name": "stdout",
     "output_type": "stream",
     "text": [
      "It was true!\n"
     ]
    }
   ],
   "source": [
    "if True:\n",
    "    print('It was true!')"
   ]
  },
  {
   "cell_type": "markdown",
   "id": "3a3da9ba-0d4b-4a5c-9d1a-8ad6a84174fb",
   "metadata": {},
   "source": [
    "Let's add in some else logic:"
   ]
  },
  {
   "cell_type": "code",
   "execution_count": 8,
   "id": "7810bbbe-9fd4-4b5c-8ded-7cdc522861e5",
   "metadata": {},
   "outputs": [
    {
     "name": "stdout",
     "output_type": "stream",
     "text": [
      "I will be printed in any case where x is not true\n"
     ]
    }
   ],
   "source": [
    "x = False\n",
    "\n",
    "if x:\n",
    "    print('x was True!')\n",
    "else:\n",
    "    print('I will be printed in any case where x is not true')"
   ]
  },
  {
   "cell_type": "markdown",
   "id": "f140c1a3-df94-4dab-aabf-7337cfd8b72b",
   "metadata": {},
   "source": [
    "#### Multiple Branches"
   ]
  },
  {
   "cell_type": "code",
   "execution_count": 11,
   "id": "224b52c1-b171-451f-b237-0bb3c89a2ef6",
   "metadata": {},
   "outputs": [
    {
     "name": "stdout",
     "output_type": "stream",
     "text": [
      "Welcome to the bank!\n"
     ]
    }
   ],
   "source": [
    "# Example 1\n",
    "loc = 'Bank'\n",
    "\n",
    "if loc == 'Auto Shop':\n",
    "    print('Welcome to the Auto Shop!')\n",
    "elif loc == 'Bank':\n",
    "    print('Welcome to the bank!')\n",
    "else:\n",
    "    print('Where are you?')"
   ]
  },
  {
   "cell_type": "code",
   "execution_count": 13,
   "id": "65de655b-5950-4cdd-a388-19ebf9bb2a85",
   "metadata": {},
   "outputs": [
    {
     "name": "stdout",
     "output_type": "stream",
     "text": [
      "Welcome Sammy!\n"
     ]
    }
   ],
   "source": [
    "# Example 2\n",
    "person = 'Sammy'\n",
    "\n",
    "if person == 'Sammy':\n",
    "    print('Welcome Sammy!')\n",
    "else:\n",
    "    print(\"Welcome, what's your name?\")"
   ]
  },
  {
   "cell_type": "code",
   "execution_count": 15,
   "id": "785df9fd-25ce-4aa1-b62f-d9f7bf955358",
   "metadata": {},
   "outputs": [
    {
     "name": "stdout",
     "output_type": "stream",
     "text": [
      "Welcome George!\n"
     ]
    }
   ],
   "source": [
    "# Example 3\n",
    "person = 'George'\n",
    "\n",
    "if person == 'Sammy':\n",
    "    print('Welcome Sammy!')\n",
    "elif person =='George':\n",
    "    print('Welcome George!')\n",
    "else:\n",
    "    print(\"Welcome, what's your name?\")"
   ]
  }
 ],
 "metadata": {
  "kernelspec": {
   "display_name": "Python 3 (ipykernel)",
   "language": "python",
   "name": "python3"
  },
  "language_info": {
   "codemirror_mode": {
    "name": "ipython",
    "version": 3
   },
   "file_extension": ".py",
   "mimetype": "text/x-python",
   "name": "python",
   "nbconvert_exporter": "python",
   "pygments_lexer": "ipython3",
   "version": "3.12.4"
  }
 },
 "nbformat": 4,
 "nbformat_minor": 5
}
