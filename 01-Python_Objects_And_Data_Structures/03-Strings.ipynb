{
 "cells": [
  {
   "cell_type": "markdown",
   "id": "535a4894-4115-4a5a-823f-29202950a7cc",
   "metadata": {},
   "source": [
    "## Strings"
   ]
  },
  {
   "cell_type": "markdown",
   "id": "aeedff30-1be6-4454-aa01-51e3109b0c7a",
   "metadata": {},
   "source": [
    "Strings are used in Python to record text information, such as names. Strings in Python are actually a sequence, which basically means Python keeps track of every element in the string as a sequence."
   ]
  },
  {
   "cell_type": "markdown",
   "id": "9036ac8d-e0c6-43b2-86ee-79d310777eee",
   "metadata": {},
   "source": [
    "### Creating a String\n",
    "To create a string in Python you need to use either single quotes or double quotes. For example:"
   ]
  },
  {
   "cell_type": "code",
   "execution_count": 2,
   "id": "5c983ced-df0f-4ad9-a6d4-7b9a0036c002",
   "metadata": {},
   "outputs": [],
   "source": [
    "name = 'James'"
   ]
  },
  {
   "cell_type": "code",
   "execution_count": 3,
   "id": "a9198a93-147e-429e-877d-228230db7427",
   "metadata": {},
   "outputs": [
    {
     "data": {
      "text/plain": [
       "'James'"
      ]
     },
     "execution_count": 3,
     "metadata": {},
     "output_type": "execute_result"
    }
   ],
   "source": [
    "name"
   ]
  },
  {
   "cell_type": "code",
   "execution_count": 5,
   "id": "cc57f284-2401-4e17-ba4c-b2bb5804e3c8",
   "metadata": {},
   "outputs": [],
   "source": [
    "university = \"MMU\""
   ]
  },
  {
   "cell_type": "code",
   "execution_count": 6,
   "id": "788ed9f2-2e6c-4ba7-ad85-928a0493c29d",
   "metadata": {},
   "outputs": [
    {
     "data": {
      "text/plain": [
       "'MMU'"
      ]
     },
     "execution_count": 6,
     "metadata": {},
     "output_type": "execute_result"
    }
   ],
   "source": [
    "university"
   ]
  },
  {
   "cell_type": "code",
   "execution_count": 8,
   "id": "beacb3b0-af58-41c0-8ef6-8ff2627fa344",
   "metadata": {},
   "outputs": [],
   "source": [
    "greeting = 'Habari Yako!'"
   ]
  },
  {
   "cell_type": "code",
   "execution_count": 9,
   "id": "e14f715d-022d-4a74-8d4f-b9494c815665",
   "metadata": {},
   "outputs": [
    {
     "data": {
      "text/plain": [
       "'Habari Yako!'"
      ]
     },
     "execution_count": 9,
     "metadata": {},
     "output_type": "execute_result"
    }
   ],
   "source": [
    "greeting"
   ]
  },
  {
   "cell_type": "code",
   "execution_count": 12,
   "id": "08845722-4869-45c9-a7d8-eacc979dc96e",
   "metadata": {},
   "outputs": [],
   "source": [
    "# If your sentence contains a single quote then use double quote to enclose the whole statement and vice versa\n",
    "sentence = \"Now I'm ready to use the single quotes inside a string!\""
   ]
  },
  {
   "cell_type": "code",
   "execution_count": 11,
   "id": "0f8a296f-85bf-4486-b980-7e385f7a80c2",
   "metadata": {},
   "outputs": [
    {
     "data": {
      "text/plain": [
       "\"Now I'm ready to use the single quotes inside a string!\""
      ]
     },
     "execution_count": 11,
     "metadata": {},
     "output_type": "execute_result"
    }
   ],
   "source": [
    "sentence"
   ]
  },
  {
   "cell_type": "markdown",
   "id": "fbbe090b-32ed-40ae-af54-7ccec57b86fc",
   "metadata": {},
   "source": [
    "#### Printing a String\n",
    "we display strings in the output using print function"
   ]
  },
  {
   "cell_type": "code",
   "execution_count": 14,
   "id": "992ac83d-3c5c-47da-8ca4-6714d7e1e9f5",
   "metadata": {},
   "outputs": [
    {
     "name": "stdout",
     "output_type": "stream",
     "text": [
      "Python is fun\n"
     ]
    }
   ],
   "source": [
    "print('Python is fun')"
   ]
  },
  {
   "cell_type": "markdown",
   "id": "64aceaeb-4888-4a20-bc96-c8fc3ce60acc",
   "metadata": {},
   "source": [
    "#### String Basics"
   ]
  },
  {
   "cell_type": "markdown",
   "id": "a86544e3-04bf-4994-9f71-8c4cd9cd65cd",
   "metadata": {},
   "source": [
    "We can use a function called len() to check the length of a string."
   ]
  },
  {
   "cell_type": "code",
   "execution_count": 16,
   "id": "74a0311d-35d8-402c-9cdb-369ad31e77d2",
   "metadata": {},
   "outputs": [
    {
     "data": {
      "text/plain": [
       "17"
      ]
     },
     "execution_count": 16,
     "metadata": {},
     "output_type": "execute_result"
    }
   ],
   "source": [
    "len('I am James Matata')"
   ]
  },
  {
   "cell_type": "markdown",
   "id": "45b06f0b-8b8f-427c-a592-bcaf14686168",
   "metadata": {},
   "source": [
    "Python's built-in len() function counts all of the characters in the string, including spaces and punctuation."
   ]
  },
  {
   "cell_type": "markdown",
   "id": "2ebc1e3e-3a81-4b4f-ac5c-0f625ca0256f",
   "metadata": {},
   "source": [
    "#### String Indexing\n",
    "Since strings are a sequence Python can use indexes to call parts of the strings. \n",
    "In Python, we use square brackets [] after an object to call its index. Also note that indexing starts at 0 for Python. "
   ]
  },
  {
   "cell_type": "code",
   "execution_count": 17,
   "id": "8756f925-4649-443b-b55d-83c918e3bf04",
   "metadata": {},
   "outputs": [],
   "source": [
    "name = 'James'"
   ]
  },
  {
   "cell_type": "code",
   "execution_count": 19,
   "id": "b8fe9ff5-ffc7-4518-a65b-e8c83d39b877",
   "metadata": {},
   "outputs": [
    {
     "name": "stdout",
     "output_type": "stream",
     "text": [
      "James\n"
     ]
    }
   ],
   "source": [
    "print(name)"
   ]
  },
  {
   "cell_type": "code",
   "execution_count": 20,
   "id": "eb738a13-f090-4c03-b0d3-f3f182ea26a5",
   "metadata": {},
   "outputs": [
    {
     "name": "stdout",
     "output_type": "stream",
     "text": [
      "J\n"
     ]
    }
   ],
   "source": [
    "# Printing the first letter of the name\n",
    "print(name[0])"
   ]
  },
  {
   "cell_type": "code",
   "execution_count": 21,
   "id": "68216c3f-4edb-4126-ac5c-ba39a4451ff5",
   "metadata": {},
   "outputs": [
    {
     "name": "stdout",
     "output_type": "stream",
     "text": [
      "a\n"
     ]
    }
   ],
   "source": [
    "print(name[1])"
   ]
  },
  {
   "cell_type": "markdown",
   "id": "0a296f6b-02c5-4037-81d3-ef02c1ffcdb2",
   "metadata": {},
   "source": [
    "We can use a : to perform slicing which grabs everything up to a designated point. For example:"
   ]
  },
  {
   "cell_type": "code",
   "execution_count": 26,
   "id": "eedf7d76-b5a7-412c-aeca-dc9c09b11071",
   "metadata": {},
   "outputs": [
    {
     "name": "stdout",
     "output_type": "stream",
     "text": [
      "ames\n"
     ]
    }
   ],
   "source": [
    "# Grab everything past the first letter all the way to the length of name which is len(name)\n",
    "print(name[1:])"
   ]
  },
  {
   "cell_type": "code",
   "execution_count": 27,
   "id": "682dbb96-df4a-490c-a1b2-6a7dabb243b8",
   "metadata": {},
   "outputs": [
    {
     "name": "stdout",
     "output_type": "stream",
     "text": [
      "Jam\n"
     ]
    }
   ],
   "source": [
    "# Grab everything UP TO the 3rd index\n",
    "print(name[:3])"
   ]
  },
  {
   "cell_type": "markdown",
   "id": "e25a0843-044f-4c1f-bebd-da7c862a768c",
   "metadata": {},
   "source": [
    "Note the above slicing. Here we're telling Python to grab everything from 0 up to 3. It doesn't include the 3rd index."
   ]
  },
  {
   "cell_type": "code",
   "execution_count": 28,
   "id": "92491202-1df3-46bf-817b-e2797af66c04",
   "metadata": {},
   "outputs": [
    {
     "name": "stdout",
     "output_type": "stream",
     "text": [
      "James\n"
     ]
    }
   ],
   "source": [
    "# Print everything\n",
    "print(name[:])"
   ]
  },
  {
   "cell_type": "markdown",
   "id": "067a37bc-ab95-4713-98f9-7814ddb66c79",
   "metadata": {},
   "source": [
    "We can also use negative indexing to go backwards."
   ]
  },
  {
   "cell_type": "code",
   "execution_count": 30,
   "id": "936a6e22-7edd-4d45-af2f-0f9c2cf302be",
   "metadata": {},
   "outputs": [
    {
     "name": "stdout",
     "output_type": "stream",
     "text": [
      "s\n"
     ]
    }
   ],
   "source": [
    "# Last letter (one index behind 0 so it loops back around)\n",
    "print(name[-1])"
   ]
  },
  {
   "cell_type": "code",
   "execution_count": 31,
   "id": "77153bd5-3045-492d-a240-3c49bdedb2fb",
   "metadata": {},
   "outputs": [
    {
     "name": "stdout",
     "output_type": "stream",
     "text": [
      "Jame\n"
     ]
    }
   ],
   "source": [
    "# Grab everything but the last letter\n",
    "print(name[:-1])"
   ]
  },
  {
   "cell_type": "markdown",
   "id": "01994529-5c1e-42e1-97fc-cb76e76164b8",
   "metadata": {},
   "source": [
    "We can also use index and slice notation to grab elements of a sequence by a specified step size (the default is 1). For instance we can use two colons in a row and then a number specifying the frequency to grab elements. For example:"
   ]
  },
  {
   "cell_type": "code",
   "execution_count": 32,
   "id": "48b95c2f-36ab-4c0f-9747-90256a3fb0b1",
   "metadata": {},
   "outputs": [
    {
     "name": "stdout",
     "output_type": "stream",
     "text": [
      "James\n"
     ]
    }
   ],
   "source": [
    "# Grab everything, but go in steps size of 1\n",
    "print(name[::1])"
   ]
  },
  {
   "cell_type": "code",
   "execution_count": 33,
   "id": "763815cb-7528-4b64-9534-3c9faee11e75",
   "metadata": {},
   "outputs": [
    {
     "name": "stdout",
     "output_type": "stream",
     "text": [
      "Jms\n"
     ]
    }
   ],
   "source": [
    "# Grab everything, but go in steps size of 2\n",
    "print(name[::2])"
   ]
  },
  {
   "cell_type": "code",
   "execution_count": 34,
   "id": "8af10b89-8ec4-45fa-b733-5b93a879c88f",
   "metadata": {},
   "outputs": [
    {
     "name": "stdout",
     "output_type": "stream",
     "text": [
      "semaJ\n"
     ]
    }
   ],
   "source": [
    "# We can use this to print a string backwards\n",
    "print(name[::-1])"
   ]
  },
  {
   "cell_type": "markdown",
   "id": "2253915e-dcf0-4428-a8ae-164f4f4076c2",
   "metadata": {},
   "source": [
    "#### String Properties\n",
    "It's important to note that strings have an important property known as immutability. This means that once a string is created, the elements within it can not be changed or replaced. For example:"
   ]
  },
  {
   "cell_type": "code",
   "execution_count": 35,
   "id": "c0c09aab-aaf1-4431-90ea-e84c059c9ddd",
   "metadata": {},
   "outputs": [
    {
     "data": {
      "text/plain": [
       "'James'"
      ]
     },
     "execution_count": 35,
     "metadata": {},
     "output_type": "execute_result"
    }
   ],
   "source": [
    "name"
   ]
  },
  {
   "cell_type": "code",
   "execution_count": 36,
   "id": "a004585c-c35c-4516-809e-89d57715d1d0",
   "metadata": {},
   "outputs": [
    {
     "ename": "TypeError",
     "evalue": "'str' object does not support item assignment",
     "output_type": "error",
     "traceback": [
      "\u001b[1;31m---------------------------------------------------------------------------\u001b[0m",
      "\u001b[1;31mTypeError\u001b[0m                                 Traceback (most recent call last)",
      "Cell \u001b[1;32mIn[36], line 2\u001b[0m\n\u001b[0;32m      1\u001b[0m \u001b[38;5;66;03m# Let's try to change the first letter to 'x'\u001b[39;00m\n\u001b[1;32m----> 2\u001b[0m name[\u001b[38;5;241m0\u001b[39m] \u001b[38;5;241m=\u001b[39m \u001b[38;5;124m'\u001b[39m\u001b[38;5;124mc\u001b[39m\u001b[38;5;124m'\u001b[39m\n",
      "\u001b[1;31mTypeError\u001b[0m: 'str' object does not support item assignment"
     ]
    }
   ],
   "source": [
    "# Let's try to change the first letter to 'c'\n",
    "name[0] = 'c'"
   ]
  },
  {
   "cell_type": "markdown",
   "id": "a7f5dce4-d1cf-4d08-ad40-a9d61c60516f",
   "metadata": {},
   "source": [
    "Notice how the error tells us directly what we can't do, change the item assignment!\r\n",
    "\r\n",
    "Something we can do is concatenate strings!"
   ]
  },
  {
   "cell_type": "code",
   "execution_count": 37,
   "id": "ead2164e-9b18-4a2e-adb7-a78dad9a32db",
   "metadata": {},
   "outputs": [
    {
     "data": {
      "text/plain": [
       "'James'"
      ]
     },
     "execution_count": 37,
     "metadata": {},
     "output_type": "execute_result"
    }
   ],
   "source": [
    "name"
   ]
  },
  {
   "cell_type": "code",
   "execution_count": 39,
   "id": "ff40e271-ddfa-414a-87b9-9e1103573d65",
   "metadata": {},
   "outputs": [
    {
     "data": {
      "text/plain": [
       "'James Matata'"
      ]
     },
     "execution_count": 39,
     "metadata": {},
     "output_type": "execute_result"
    }
   ],
   "source": [
    "# Concatenate strings!\n",
    "name + ' Matata'"
   ]
  },
  {
   "cell_type": "code",
   "execution_count": 41,
   "id": "2cc1c819-3b98-41c4-983e-a139679f4eb7",
   "metadata": {},
   "outputs": [],
   "source": [
    "# Let's try to change the first letter to 'c' using concatenation\n",
    "\n",
    "name = 'c' + name[1:]"
   ]
  },
  {
   "cell_type": "code",
   "execution_count": 42,
   "id": "418f3290-2336-4f8b-8d57-7f47082dfae6",
   "metadata": {},
   "outputs": [
    {
     "data": {
      "text/plain": [
       "'cames'"
      ]
     },
     "execution_count": 42,
     "metadata": {},
     "output_type": "execute_result"
    }
   ],
   "source": [
    "name"
   ]
  },
  {
   "cell_type": "markdown",
   "id": "78551e5e-d66a-46f7-8802-c2c5983ec459",
   "metadata": {},
   "source": [
    "We can use the multiplication symbol to create repetition!"
   ]
  },
  {
   "cell_type": "code",
   "execution_count": 43,
   "id": "710f999a-e27e-4367-8c0d-8f210d5b1d3c",
   "metadata": {},
   "outputs": [],
   "source": [
    "letter = 'j'"
   ]
  },
  {
   "cell_type": "code",
   "execution_count": 44,
   "id": "32fe8c42-5b07-4c20-8ebb-8d7f16073e52",
   "metadata": {},
   "outputs": [
    {
     "data": {
      "text/plain": [
       "'jjjjjjjjjj'"
      ]
     },
     "execution_count": 44,
     "metadata": {},
     "output_type": "execute_result"
    }
   ],
   "source": [
    "letter*10"
   ]
  },
  {
   "cell_type": "markdown",
   "id": "b4dbe912-067c-4e29-8748-f29001a651b6",
   "metadata": {},
   "source": [
    "#### Basic Built-in String methods\n",
    "Objects in Python usually have built-in methods. These methods are functions inside the object that can perform actions or commands on the object itself.\r\n",
    "\r\n",
    "We call methods with a period and then the method name. Methods are in the form:\r\n",
    "\r\n",
    "object.method(parameters)"
   ]
  },
  {
   "cell_type": "code",
   "execution_count": 45,
   "id": "26bc795f-d3cf-4c18-869a-b85b5f5985db",
   "metadata": {},
   "outputs": [
    {
     "data": {
      "text/plain": [
       "'cames'"
      ]
     },
     "execution_count": 45,
     "metadata": {},
     "output_type": "execute_result"
    }
   ],
   "source": [
    "name"
   ]
  },
  {
   "cell_type": "code",
   "execution_count": 46,
   "id": "1a66a538-606c-4bd6-b42a-5615eef2eb52",
   "metadata": {},
   "outputs": [
    {
     "data": {
      "text/plain": [
       "'CAMES'"
      ]
     },
     "execution_count": 46,
     "metadata": {},
     "output_type": "execute_result"
    }
   ],
   "source": [
    "# Upper case a string\n",
    "name.upper()"
   ]
  },
  {
   "cell_type": "code",
   "execution_count": 47,
   "id": "2c43f501-8a53-4a3b-bcda-db2fed7d0025",
   "metadata": {},
   "outputs": [
    {
     "data": {
      "text/plain": [
       "'cames'"
      ]
     },
     "execution_count": 47,
     "metadata": {},
     "output_type": "execute_result"
    }
   ],
   "source": [
    "# Lower case\n",
    "name.lower()"
   ]
  },
  {
   "cell_type": "code",
   "execution_count": 48,
   "id": "2d81bcb8-c916-4d98-9f54-2e8f3bf69062",
   "metadata": {},
   "outputs": [],
   "source": [
    "sentence = 'Multimedia University of Kenya'"
   ]
  },
  {
   "cell_type": "code",
   "execution_count": 49,
   "id": "6fd2aa0c-ccaa-4f77-a382-e632bbde401e",
   "metadata": {},
   "outputs": [
    {
     "data": {
      "text/plain": [
       "['Multimedia', 'University', 'of', 'Kenya']"
      ]
     },
     "execution_count": 49,
     "metadata": {},
     "output_type": "execute_result"
    }
   ],
   "source": [
    "sentence.split()"
   ]
  },
  {
   "cell_type": "code",
   "execution_count": 50,
   "id": "aa9954b2-51c2-4a5c-b738-77ce64088437",
   "metadata": {},
   "outputs": [
    {
     "data": {
      "text/plain": [
       "['M', 'ltimedia University of Kenya']"
      ]
     },
     "execution_count": 50,
     "metadata": {},
     "output_type": "execute_result"
    }
   ],
   "source": [
    "# Split by a specific element (doesn't include the element that was split on)\n",
    "sentence.split('u')"
   ]
  },
  {
   "cell_type": "markdown",
   "id": "6d2eacf7-a256-4996-84a7-a73ffbc2e8aa",
   "metadata": {},
   "source": [
    "#### Print Formatting\n",
    "We can use the .format() method to add formatted objects to printed string statements.\r\n",
    "\r\n",
    "The easiest way to show this is through an example:"
   ]
  },
  {
   "cell_type": "code",
   "execution_count": 51,
   "id": "f865559d-b766-4c51-a2a9-ec7bf2240c1e",
   "metadata": {},
   "outputs": [
    {
     "data": {
      "text/plain": [
       "'Insert another string with curly brackets: The inserted string'"
      ]
     },
     "execution_count": 51,
     "metadata": {},
     "output_type": "execute_result"
    }
   ],
   "source": [
    "'Insert another string with curly brackets: {}'.format('The inserted string')"
   ]
  }
 ],
 "metadata": {
  "kernelspec": {
   "display_name": "Python 3 (ipykernel)",
   "language": "python",
   "name": "python3"
  },
  "language_info": {
   "codemirror_mode": {
    "name": "ipython",
    "version": 3
   },
   "file_extension": ".py",
   "mimetype": "text/x-python",
   "name": "python",
   "nbconvert_exporter": "python",
   "pygments_lexer": "ipython3",
   "version": "3.12.4"
  }
 },
 "nbformat": 4,
 "nbformat_minor": 5
}
