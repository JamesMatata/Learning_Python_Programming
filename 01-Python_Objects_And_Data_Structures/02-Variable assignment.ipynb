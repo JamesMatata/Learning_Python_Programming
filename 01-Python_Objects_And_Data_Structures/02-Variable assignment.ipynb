{
 "cells": [
  {
   "cell_type": "markdown",
   "id": "30c1514b-b0dc-45f5-928d-d5e5f2901aae",
   "metadata": {},
   "source": [
    "## Variables assignment"
   ]
  },
  {
   "cell_type": "markdown",
   "id": "ebfb00ec-e845-462b-b20a-515d026ba471",
   "metadata": {},
   "source": [
    "#### Rules for naming variables\n",
    "\n",
    "- Names can not start with a number\n",
    "- Names can not contain spaces, use _ intead\n",
    "- Names can not contain any of these symbols:(:'\",<>/?|\\!@#%^&*~-+)\n",
    "- Avoid using Python built-in keywords like list and str\n",
    "- Avoid using the single characters l (lowercase letter el), O (uppercase letter oh) and I (uppercase letter eye) as they can be confused with 1 and 0awith 1 and 0"
   ]
  },
  {
   "cell_type": "markdown",
   "id": "fc9b3c32-1173-46b5-829b-f0371f02d8c7",
   "metadata": {},
   "source": [
    "#### Dynamic Typing\n",
    "Python uses dynamic typing, meaning you can reassign variables to different data types. This makes Python very flexible in assigning data types; it differs from other languages that are statically typed."
   ]
  },
  {
   "cell_type": "code",
   "execution_count": 10,
   "id": "f6a3d45e-bb77-4fce-a58f-ea748f7e1573",
   "metadata": {},
   "outputs": [],
   "source": [
    "number = 3"
   ]
  },
  {
   "cell_type": "code",
   "execution_count": 11,
   "id": "f4ae586d-c5be-4810-b178-a7198d2f5b78",
   "metadata": {},
   "outputs": [
    {
     "data": {
      "text/plain": [
       "3"
      ]
     },
     "execution_count": 11,
     "metadata": {},
     "output_type": "execute_result"
    }
   ],
   "source": [
    "number"
   ]
  },
  {
   "cell_type": "code",
   "execution_count": 3,
   "id": "96632cbf-54c5-4966-b99a-e0a3bf86756b",
   "metadata": {},
   "outputs": [],
   "source": [
    "number = 'three'"
   ]
  },
  {
   "cell_type": "code",
   "execution_count": 4,
   "id": "226b97ca-2893-46d0-aec2-2da0bf5d8bec",
   "metadata": {},
   "outputs": [
    {
     "data": {
      "text/plain": [
       "'three'"
      ]
     },
     "execution_count": 4,
     "metadata": {},
     "output_type": "execute_result"
    }
   ],
   "source": [
    "number"
   ]
  },
  {
   "cell_type": "code",
   "execution_count": 7,
   "id": "3e428ea8-5c31-4e0f-bf6c-66c78a26ae84",
   "metadata": {},
   "outputs": [],
   "source": [
    "number = ['three', 3]"
   ]
  },
  {
   "cell_type": "code",
   "execution_count": 8,
   "id": "c5177d11-0448-4d19-b188-55b73b07896b",
   "metadata": {},
   "outputs": [
    {
     "data": {
      "text/plain": [
       "['three', 3]"
      ]
     },
     "execution_count": 8,
     "metadata": {},
     "output_type": "execute_result"
    }
   ],
   "source": [
    "number"
   ]
  },
  {
   "cell_type": "markdown",
   "id": "faf26e2f-7818-49ef-b445-f758e012878e",
   "metadata": {},
   "source": [
    "##### Pros of Dynamic Typing\n",
    "- Very easy to work with\n",
    "- Faster development timee"
   ]
  },
  {
   "cell_type": "markdown",
   "id": "4d977ac1-3096-44f3-a501-d093d4cfb93c",
   "metadata": {},
   "source": [
    "##### Cons of Dynamic Typing\n",
    "- May result in unexpected bugs!\n",
    "- You need to be aware of type())"
   ]
  },
  {
   "cell_type": "markdown",
   "id": "de3e771c-8d00-4f0d-988b-103daa54bc1e",
   "metadata": {},
   "source": [
    "#### Assigning Variables\n",
    "Variable assignment follows name = object, where a single equals sign = is an assignment operator"
   ]
  },
  {
   "cell_type": "code",
   "execution_count": 14,
   "id": "72c40a50-3d59-47f6-8eed-f0db5a17699a",
   "metadata": {},
   "outputs": [],
   "source": [
    "age = 20 # Here variable name age is assigned to object 20"
   ]
  },
  {
   "cell_type": "code",
   "execution_count": 15,
   "id": "fb934814-c3f2-488d-ab34-2acbe59d0414",
   "metadata": {},
   "outputs": [
    {
     "data": {
      "text/plain": [
       "20"
      ]
     },
     "execution_count": 15,
     "metadata": {},
     "output_type": "execute_result"
    }
   ],
   "source": [
    "age # We can now use age inplace of 20"
   ]
  },
  {
   "cell_type": "markdown",
   "id": "7c7c5589-0532-4df7-adaf-a5be75332f95",
   "metadata": {},
   "source": [
    "#### Reassigning Variables\n",
    "Python lets you reassign variables with a reference to the same object."
   ]
  },
  {
   "cell_type": "code",
   "execution_count": 16,
   "id": "fa5c7abc-9600-4262-8668-23861570a770",
   "metadata": {},
   "outputs": [],
   "source": [
    "age = age + 10"
   ]
  },
  {
   "cell_type": "code",
   "execution_count": 19,
   "id": "f77f086b-7d30-47b4-94de-1a30eaf0722c",
   "metadata": {},
   "outputs": [
    {
     "data": {
      "text/plain": [
       "40"
      ]
     },
     "execution_count": 19,
     "metadata": {},
     "output_type": "execute_result"
    }
   ],
   "source": [
    "age"
   ]
  },
  {
   "cell_type": "markdown",
   "id": "e03b80e7-b411-456b-a7dd-eb03e8740a69",
   "metadata": {},
   "source": [
    "There's actually a shortcut for this. Python lets you add, subtract, multiply and divide numbers with reassignment using +=, -=, *=, and /=."
   ]
  },
  {
   "cell_type": "code",
   "execution_count": 20,
   "id": "52ca038f-7fa7-4cd1-9fdb-d3e7c9fdbfff",
   "metadata": {},
   "outputs": [],
   "source": [
    "age += 10"
   ]
  },
  {
   "cell_type": "code",
   "execution_count": 21,
   "id": "20385dd6-3f87-4e21-9af8-c3f0236672f1",
   "metadata": {},
   "outputs": [
    {
     "data": {
      "text/plain": [
       "50"
      ]
     },
     "execution_count": 21,
     "metadata": {},
     "output_type": "execute_result"
    }
   ],
   "source": [
    "age"
   ]
  },
  {
   "cell_type": "code",
   "execution_count": 22,
   "id": "c69d760e-e325-4d4c-ae46-f49e3809ab25",
   "metadata": {},
   "outputs": [],
   "source": [
    "age *= 2"
   ]
  },
  {
   "cell_type": "code",
   "execution_count": 23,
   "id": "ca071730-0aac-450a-bdfe-545201c05fd8",
   "metadata": {},
   "outputs": [
    {
     "data": {
      "text/plain": [
       "100"
      ]
     },
     "execution_count": 23,
     "metadata": {},
     "output_type": "execute_result"
    }
   ],
   "source": [
    "age"
   ]
  },
  {
   "cell_type": "code",
   "execution_count": 24,
   "id": "ed69cf69-ede8-488d-be57-86cc97db05bb",
   "metadata": {},
   "outputs": [],
   "source": [
    "age /= 10"
   ]
  },
  {
   "cell_type": "code",
   "execution_count": 25,
   "id": "d4d4ff69-55a8-4a25-b5d0-d90f9b9bd910",
   "metadata": {},
   "outputs": [
    {
     "data": {
      "text/plain": [
       "10.0"
      ]
     },
     "execution_count": 25,
     "metadata": {},
     "output_type": "execute_result"
    }
   ],
   "source": [
    "age"
   ]
  },
  {
   "cell_type": "markdown",
   "id": "de476682-a02f-46b6-84be-e4ebc76db075",
   "metadata": {},
   "source": [
    "#### Determining variable type with type()\n",
    "You can check what type of object is assigned to a variable using Python's built-in type() function. Common data types include:int (for integer), float, str (for string), list, tuple, dict (for dictionary), set and bool (for Boolean True/False)ue/False)"
   ]
  },
  {
   "cell_type": "code",
   "execution_count": 26,
   "id": "b6de9f39-5ae9-4a84-859c-7bd41fe7e44c",
   "metadata": {},
   "outputs": [
    {
     "data": {
      "text/plain": [
       "float"
      ]
     },
     "execution_count": 26,
     "metadata": {},
     "output_type": "execute_result"
    }
   ],
   "source": [
    "type(age)"
   ]
  },
  {
   "cell_type": "code",
   "execution_count": 28,
   "id": "b5c844f1-d34c-4113-9733-03bd1213be9d",
   "metadata": {},
   "outputs": [],
   "source": [
    "names = ['James', 'Matata']"
   ]
  },
  {
   "cell_type": "code",
   "execution_count": 29,
   "id": "f892d6ee-7dd9-4399-aa9d-dcf5479c14c9",
   "metadata": {},
   "outputs": [
    {
     "data": {
      "text/plain": [
       "list"
      ]
     },
     "execution_count": 29,
     "metadata": {},
     "output_type": "execute_result"
    }
   ],
   "source": [
    "type(names)"
   ]
  }
 ],
 "metadata": {
  "kernelspec": {
   "display_name": "Python 3 (ipykernel)",
   "language": "python",
   "name": "python3"
  },
  "language_info": {
   "codemirror_mode": {
    "name": "ipython",
    "version": 3
   },
   "file_extension": ".py",
   "mimetype": "text/x-python",
   "name": "python",
   "nbconvert_exporter": "python",
   "pygments_lexer": "ipython3",
   "version": "3.12.4"
  }
 },
 "nbformat": 4,
 "nbformat_minor": 5
}
