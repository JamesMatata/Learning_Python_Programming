{
 "cells": [
  {
   "cell_type": "markdown",
   "id": "ce229088-df31-411b-8d26-1be044a44778",
   "metadata": {},
   "source": [
    "## Numbers"
   ]
  },
  {
   "cell_type": "markdown",
   "id": "05b6dcc3-a5ba-4920-8d81-ff00d5c8c36b",
   "metadata": {},
   "source": [
    "In Python, integers and floating-point numbers are two of the basic numeric types used to represent and manipulate numerical values."
   ]
  },
  {
   "cell_type": "markdown",
   "id": "16736d75-ba87-422f-a4c4-8ef9850d669f",
   "metadata": {},
   "source": [
    "Integers (int): Integers are whole numbers without a fractional part, used for counting and simple arithmetic operations where only whole numbers are needed, and are written without any decimal point."
   ]
  },
  {
   "cell_type": "markdown",
   "id": "ea28b115-0b33-4a43-a87b-46a24a1b91ab",
   "metadata": {},
   "source": [
    "Floating-Point Numbers (float): Floating-point numbers (floats) are numbers that contain a decimal point, used for precise calculations and where fractional values are needed, written with a decimal point or in scientific notation, e.g., x = 3.14, y = -0.001, z = 1.0."
   ]
  },
  {
   "cell_type": "markdown",
   "id": "48b71eee-bab6-46a3-9447-88f0ca70f448",
   "metadata": {},
   "source": [
    "### Basic Arithmetic"
   ]
  },
  {
   "cell_type": "code",
   "execution_count": 2,
   "id": "9bed0958-1b72-4fe7-8cf4-d42e0c3cb948",
   "metadata": {},
   "outputs": [
    {
     "data": {
      "text/plain": [
       "30"
      ]
     },
     "execution_count": 2,
     "metadata": {},
     "output_type": "execute_result"
    }
   ],
   "source": [
    "# Addition\n",
    "10 + 20"
   ]
  },
  {
   "cell_type": "code",
   "execution_count": 3,
   "id": "d3e65a70-881c-41aa-8e3c-22dfae48a504",
   "metadata": {},
   "outputs": [
    {
     "data": {
      "text/plain": [
       "10"
      ]
     },
     "execution_count": 3,
     "metadata": {},
     "output_type": "execute_result"
    }
   ],
   "source": [
    "# Subtraction\n",
    "20 - 10"
   ]
  },
  {
   "cell_type": "code",
   "execution_count": 4,
   "id": "d4d9c604-2c3b-487e-b7c9-0926a06754a0",
   "metadata": {},
   "outputs": [
    {
     "data": {
      "text/plain": [
       "20"
      ]
     },
     "execution_count": 4,
     "metadata": {},
     "output_type": "execute_result"
    }
   ],
   "source": [
    "# Multiplication\n",
    "4 * 5"
   ]
  },
  {
   "cell_type": "code",
   "execution_count": 5,
   "id": "42a3af2e-c27f-48ea-8f7c-80ae1b74f6d7",
   "metadata": {},
   "outputs": [
    {
     "data": {
      "text/plain": [
       "1.5"
      ]
     },
     "execution_count": 5,
     "metadata": {},
     "output_type": "execute_result"
    }
   ],
   "source": [
    "# Division\n",
    "3 / 2"
   ]
  },
  {
   "cell_type": "code",
   "execution_count": 7,
   "id": "e6c7e179-d388-405a-b7f7-10f6b18e0fc0",
   "metadata": {},
   "outputs": [
    {
     "data": {
      "text/plain": [
       "1"
      ]
     },
     "execution_count": 7,
     "metadata": {},
     "output_type": "execute_result"
    }
   ],
   "source": [
    "# Floor division: The // operator (two forward slashes) truncates the decimal without rounding, and returns an integer result.\n",
    "3 // 2"
   ]
  },
  {
   "cell_type": "code",
   "execution_count": 8,
   "id": "3b3c462a-3918-4755-b776-bc2176b49954",
   "metadata": {},
   "outputs": [
    {
     "data": {
      "text/plain": [
       "1"
      ]
     },
     "execution_count": 8,
     "metadata": {},
     "output_type": "execute_result"
    }
   ],
   "source": [
    "# Modulo: The % operator returns the remainder after division.\n",
    "13 % 3"
   ]
  },
  {
   "cell_type": "code",
   "execution_count": 9,
   "id": "b4167baa-ccd4-4aec-bb9b-96582dfddd69",
   "metadata": {},
   "outputs": [
    {
     "data": {
      "text/plain": [
       "81"
      ]
     },
     "execution_count": 9,
     "metadata": {},
     "output_type": "execute_result"
    }
   ],
   "source": [
    "# Power\n",
    "3 ** 4 #3 to power 4"
   ]
  },
  {
   "cell_type": "code",
   "execution_count": 10,
   "id": "85248c71-9f5a-42a4-8256-46817dabdd4f",
   "metadata": {},
   "outputs": [
    {
     "data": {
      "text/plain": [
       "3.0"
      ]
     },
     "execution_count": 10,
     "metadata": {},
     "output_type": "execute_result"
    }
   ],
   "source": [
    "# Can also do roots this way\n",
    "9**0.5"
   ]
  },
  {
   "cell_type": "code",
   "execution_count": 11,
   "id": "71f5b980-87bc-4826-a635-24bcacf3efe6",
   "metadata": {},
   "outputs": [
    {
     "data": {
      "text/plain": [
       "0.33333333333333304"
      ]
     },
     "execution_count": 11,
     "metadata": {},
     "output_type": "execute_result"
    }
   ],
   "source": [
    "# Python follows the standard mathematical order of operations(BODMAS)\n",
    "2 / 3 *  2 + 4 - 5"
   ]
  },
  {
   "cell_type": "code",
   "execution_count": 12,
   "id": "f0c1826f-469c-47ba-b0b6-4ac87c3149c7",
   "metadata": {},
   "outputs": [
    {
     "data": {
      "text/plain": [
       "156"
      ]
     },
     "execution_count": 12,
     "metadata": {},
     "output_type": "execute_result"
    }
   ],
   "source": [
    "# Can use parentheses to specify orders\n",
    "(2+10) * (10+3)"
   ]
  }
 ],
 "metadata": {
  "kernelspec": {
   "display_name": "Python 3 (ipykernel)",
   "language": "python",
   "name": "python3"
  },
  "language_info": {
   "codemirror_mode": {
    "name": "ipython",
    "version": 3
   },
   "file_extension": ".py",
   "mimetype": "text/x-python",
   "name": "python",
   "nbconvert_exporter": "python",
   "pygments_lexer": "ipython3",
   "version": "3.12.4"
  }
 },
 "nbformat": 4,
 "nbformat_minor": 5
}
