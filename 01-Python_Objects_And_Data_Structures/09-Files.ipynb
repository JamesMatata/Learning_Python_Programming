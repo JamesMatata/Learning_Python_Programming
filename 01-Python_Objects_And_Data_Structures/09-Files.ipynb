{
 "cells": [
  {
   "cell_type": "markdown",
   "id": "3234b2a0-7bb0-4bb6-9fde-1409238ac6e8",
   "metadata": {},
   "source": [
    "## Files\n",
    "Python uses file objects to interact with external files on your computer. These file objects can be any sort of file you have on your computer, whether it be an audio file, a text file, emails, Excel documents, etc. Note: You will probably need to install certain libraries or modules to interact with those various file types, but they are easily available. \n",
    "\n",
    "Python has a built-in open function that allows us to open and play with basic file types. First we will need a file though. We're going to use some IPython magic to create a text file!"
   ]
  },
  {
   "cell_type": "markdown",
   "id": "157fec0c-2f2d-4288-bbdd-0d78f73ad900",
   "metadata": {},
   "source": [
    "#### Python Opening a file"
   ]
  },
  {
   "cell_type": "code",
   "execution_count": 8,
   "id": "14461999-5121-4bfd-9443-162e27b8716f",
   "metadata": {},
   "outputs": [],
   "source": [
    "my_file = open('test.txt')"
   ]
  },
  {
   "cell_type": "markdown",
   "id": "489f72fd-bd8f-40fa-8a49-1fddc8ce842e",
   "metadata": {},
   "source": [
    "If the file is not in the same directory as the notebook, pass in the entire file path.\n",
    "\n",
    "For Windows you need to use double \\ so python doesn't treat the second \\ as an escape character, a file path is in the form:\n",
    "\n",
    "    myfile = open(\"C:\\\\Users\\\\YourUserName\\\\Home\\\\Folder\\\\myfile.txt\")\n",
    "    \n",
    "For MacOS and Linux you use slashes in the opposite direction:\n",
    "\n",
    "    myfile = open(\"/Users/YouUserName/Folder/myfile.txt\")\n",
    "    \n",
    "Use pwd to check your current locationation"
   ]
  },
  {
   "cell_type": "code",
   "execution_count": 6,
   "id": "ade252b9-d368-44a5-a4b8-b117049e686a",
   "metadata": {},
   "outputs": [
    {
     "data": {
      "text/plain": [
       "'C:\\\\Users\\\\James Matata\\\\Desktop\\\\CodeWizard\\\\Python_Programming\\\\Learning_Python\\\\Python_Objects_And_Data_Structures'"
      ]
     },
     "execution_count": 6,
     "metadata": {},
     "output_type": "execute_result"
    }
   ],
   "source": [
    "pwd"
   ]
  },
  {
   "cell_type": "code",
   "execution_count": 9,
   "id": "c685fe78-b805-407c-adcf-a3626c04616b",
   "metadata": {},
   "outputs": [
    {
     "data": {
      "text/plain": [
       "'James Matata Mule Kiema Ndeto'"
      ]
     },
     "execution_count": 9,
     "metadata": {},
     "output_type": "execute_result"
    }
   ],
   "source": [
    "my_file.read()"
   ]
  },
  {
   "cell_type": "code",
   "execution_count": 10,
   "id": "33d0dfbd-9068-4688-bf1a-38834e76892e",
   "metadata": {},
   "outputs": [
    {
     "data": {
      "text/plain": [
       "''"
      ]
     },
     "execution_count": 10,
     "metadata": {},
     "output_type": "execute_result"
    }
   ],
   "source": [
    "# But what happens if we try to read it again?\n",
    "my_file.read()"
   ]
  },
  {
   "cell_type": "markdown",
   "id": "1b617da6-6bc0-4e06-a97c-5da3243c0626",
   "metadata": {},
   "source": [
    "This happens because you can imagine the reading \"cursor\" is at the end of the file after having read it. So there is nothing left to read. We can reset the \"cursor\" like this:"
   ]
  },
  {
   "cell_type": "code",
   "execution_count": 11,
   "id": "7ba70b90-e64a-4e55-aa8c-9151a512fc5f",
   "metadata": {},
   "outputs": [
    {
     "data": {
      "text/plain": [
       "0"
      ]
     },
     "execution_count": 11,
     "metadata": {},
     "output_type": "execute_result"
    }
   ],
   "source": [
    "# Seek to the start of file (index 0)\n",
    "my_file.seek(0)"
   ]
  },
  {
   "cell_type": "code",
   "execution_count": 12,
   "id": "38331f06-138b-4fc9-a81f-41788efe0da3",
   "metadata": {},
   "outputs": [
    {
     "data": {
      "text/plain": [
       "'James Matata Mule Kiema Ndeto'"
      ]
     },
     "execution_count": 12,
     "metadata": {},
     "output_type": "execute_result"
    }
   ],
   "source": [
    "# Now read again\n",
    "my_file.read()"
   ]
  },
  {
   "cell_type": "markdown",
   "id": "72c06884-b905-4c6b-8890-d4195cd1a801",
   "metadata": {},
   "source": [
    "You can read a file line by line using the readlines method. Use caution with large files, since everything will be held in memory."
   ]
  },
  {
   "cell_type": "code",
   "execution_count": 13,
   "id": "493d6a84-f4c9-4dd1-8fab-b1413ec6b663",
   "metadata": {},
   "outputs": [
    {
     "data": {
      "text/plain": [
       "['James Matata Mule Kiema Ndeto']"
      ]
     },
     "execution_count": 13,
     "metadata": {},
     "output_type": "execute_result"
    }
   ],
   "source": [
    "# Readlines returns a list of the lines in the file\n",
    "my_file.seek(0)\n",
    "my_file.readlines()"
   ]
  },
  {
   "cell_type": "markdown",
   "id": "45ee5d48-32a4-4895-9bac-3d53f903a31e",
   "metadata": {},
   "source": [
    "When you have finished using a file, it is always good practice to close it."
   ]
  },
  {
   "cell_type": "code",
   "execution_count": 14,
   "id": "1b533135-4f1f-4ecd-b5e4-e454bc7c050c",
   "metadata": {},
   "outputs": [],
   "source": [
    "my_file.close()"
   ]
  },
  {
   "cell_type": "markdown",
   "id": "7f9cd690-e36b-433e-af64-e1dff9f321b4",
   "metadata": {},
   "source": [
    "#### Writing to a File\n",
    "By default, the open() function will only allow us to read the file. We need to pass the argument 'w' to write over the file. For example:"
   ]
  },
  {
   "cell_type": "code",
   "execution_count": 20,
   "id": "82e9232c-7f31-4aff-9322-3450389c68dd",
   "metadata": {},
   "outputs": [],
   "source": [
    "# Add a second argument to the function, 'w' which stands for write.\n",
    "# Passing 'w+' lets us read and write to the file\n",
    "\n",
    "my_file = open('test.txt','w+')"
   ]
  },
  {
   "cell_type": "markdown",
   "id": "38b6589c-aebe-482d-b0ed-2c103f7c7e79",
   "metadata": {},
   "source": [
    "Opening a file with 'w' or 'w+' truncates the original, meaning that anything that was in the original file is deleted!"
   ]
  },
  {
   "cell_type": "code",
   "execution_count": 21,
   "id": "a0c7d44b-1054-4fb6-bad4-938b86585318",
   "metadata": {},
   "outputs": [
    {
     "data": {
      "text/plain": [
       "32"
      ]
     },
     "execution_count": 21,
     "metadata": {},
     "output_type": "execute_result"
    }
   ],
   "source": [
    "# Write to the file\n",
    "my_file.write('Mathematics and Computer science')"
   ]
  },
  {
   "cell_type": "code",
   "execution_count": 22,
   "id": "70f8bd72-bf66-4241-ad64-d6cfd3fc0c89",
   "metadata": {},
   "outputs": [
    {
     "data": {
      "text/plain": [
       "'Mathematics and Computer science'"
      ]
     },
     "execution_count": 22,
     "metadata": {},
     "output_type": "execute_result"
    }
   ],
   "source": [
    "# Read the file\n",
    "my_file.seek(0)\n",
    "my_file.read()"
   ]
  },
  {
   "cell_type": "code",
   "execution_count": 23,
   "id": "25381cae-5a4d-4693-867d-f19e6a76766c",
   "metadata": {},
   "outputs": [],
   "source": [
    "my_file.close()  # always do this when you're done with a file"
   ]
  },
  {
   "cell_type": "markdown",
   "id": "4eb3a422-dea0-4905-864b-1c0ae3ab64ae",
   "metadata": {},
   "source": [
    "#### Appending to a File\n",
    "Passing the argument 'a' opens the file and puts the pointer at the end, so anything written is appended. Like 'w+', 'a+' lets us read and write to a file. If the file does not exist, one will be created."
   ]
  },
  {
   "cell_type": "code",
   "execution_count": 24,
   "id": "3c68255f-7cde-4c16-8dff-9dad65afa045",
   "metadata": {},
   "outputs": [
    {
     "data": {
      "text/plain": [
       "23"
      ]
     },
     "execution_count": 24,
     "metadata": {},
     "output_type": "execute_result"
    }
   ],
   "source": [
    "my_file = open('test.txt','a+')\n",
    "my_file.write('\\nThis is text being appended to test.txt')\n",
    "my_file.write('\\nAnd another line here.')"
   ]
  },
  {
   "cell_type": "code",
   "execution_count": 25,
   "id": "2c2ffa4b-10b7-414b-8cf0-78cbafc589ca",
   "metadata": {},
   "outputs": [
    {
     "name": "stdout",
     "output_type": "stream",
     "text": [
      "Mathematics and Computer science\n",
      "This is text being appended to test.txt\n",
      "And another line here.\n"
     ]
    }
   ],
   "source": [
    "my_file.seek(0)\n",
    "print(my_file.read())"
   ]
  },
  {
   "cell_type": "code",
   "execution_count": 26,
   "id": "88ee8624-9d05-4ab3-afb0-ac1f6ee0c77b",
   "metadata": {},
   "outputs": [],
   "source": [
    "my_file.close()"
   ]
  }
 ],
 "metadata": {
  "kernelspec": {
   "display_name": "Python 3 (ipykernel)",
   "language": "python",
   "name": "python3"
  },
  "language_info": {
   "codemirror_mode": {
    "name": "ipython",
    "version": 3
   },
   "file_extension": ".py",
   "mimetype": "text/x-python",
   "name": "python",
   "nbconvert_exporter": "python",
   "pygments_lexer": "ipython3",
   "version": "3.12.4"
  }
 },
 "nbformat": 4,
 "nbformat_minor": 5
}
