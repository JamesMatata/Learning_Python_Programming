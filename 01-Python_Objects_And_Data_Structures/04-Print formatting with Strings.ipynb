{
 "cells": [
  {
   "cell_type": "markdown",
   "id": "b2897110-b1e7-4baa-8b79-b84ff9b04d50",
   "metadata": {},
   "source": [
    "## String Formatting\n",
    "String formatting lets you inject items into a string rather than trying to chain items together using commas or string concatenation.\n",
    "There are three ways to perform string formatting.\n",
    "\n",
    "- The oldest method involves placeholders using the modulo % character.\n",
    "- An improved technique uses the .format() string method.\n",
    "- The newest method, introduced with Python 3.6, uses formatted string literals, called f-strings.ngs."
   ]
  },
  {
   "cell_type": "markdown",
   "id": "d2ea1ec6-796c-42c1-8e6e-a6fff303df37",
   "metadata": {},
   "source": [
    "### Formatting with placeholders\n",
    "You can use %s to inject strings into your print statements. The modulo % is referred to as a \"string formatting operator\"."
   ]
  },
  {
   "cell_type": "code",
   "execution_count": 1,
   "id": "1eadb050-bc75-44e8-bebe-aaaa06892d86",
   "metadata": {},
   "outputs": [
    {
     "name": "stdout",
     "output_type": "stream",
     "text": [
      "I'm going to inject something here.\n"
     ]
    }
   ],
   "source": [
    "print(\"I'm going to inject %s here.\" %'something')"
   ]
  },
  {
   "cell_type": "code",
   "execution_count": 2,
   "id": "6d17b7dd-6a64-498b-8ecf-113da0cb466c",
   "metadata": {},
   "outputs": [
    {
     "name": "stdout",
     "output_type": "stream",
     "text": [
      "I'm going to inject some text here, and more text here.\n"
     ]
    }
   ],
   "source": [
    "# You can pass multiple items by placing them inside a tuple after the % operator.\n",
    "print(\"I'm going to inject %s text here, and %s text here.\" %('some','more'))"
   ]
  },
  {
   "cell_type": "code",
   "execution_count": 3,
   "id": "690dd937-b407-4c5c-8532-812d0f955cf3",
   "metadata": {},
   "outputs": [
    {
     "name": "stdout",
     "output_type": "stream",
     "text": [
      "I'm going to inject some text here, and more text here.\n"
     ]
    }
   ],
   "source": [
    "# You can also pass variable names:\n",
    "x, y = 'some', 'more'\n",
    "print(\"I'm going to inject %s text here, and %s text here.\"%(x,y))"
   ]
  },
  {
   "cell_type": "markdown",
   "id": "b5e35bb5-eadb-4a03-b3f3-6c45b5916628",
   "metadata": {},
   "source": [
    "#### Format conversion methods\n",
    "It should be noted that two methods %s and %r convert any python object to a string using two separate methods: str() and repr().\n",
    "%r and repr() deliver the string representation of the object, including quotation marks and any escape characters."
   ]
  },
  {
   "cell_type": "code",
   "execution_count": 4,
   "id": "66516d39-fd4d-496d-8f32-18a30327ef53",
   "metadata": {},
   "outputs": [
    {
     "name": "stdout",
     "output_type": "stream",
     "text": [
      "He said his name was Fred.\n",
      "He said his name was 'Fred'.\n"
     ]
    }
   ],
   "source": [
    "print('He said his name was %s.' %'Fred')\n",
    "print('He said his name was %r.' %'Fred')"
   ]
  },
  {
   "cell_type": "code",
   "execution_count": 1,
   "id": "c47bb5ab-7580-4a84-85cb-9f8a0f00cb85",
   "metadata": {},
   "outputs": [
    {
     "name": "stdout",
     "output_type": "stream",
     "text": [
      "I once caught a fish this \tbig.\n",
      "I once caught a fish 'this \\tbig'.\n"
     ]
    }
   ],
   "source": [
    "# As another example, \\t inserts a tab into a string.\n",
    "print('I once caught a fish %s.' %'this \\tbig')\n",
    "print('I once caught a fish %r.' %'this \\tbig')"
   ]
  },
  {
   "cell_type": "markdown",
   "id": "03de6812-e2d6-44d1-a83c-7c6690edeeb7",
   "metadata": {},
   "source": [
    "The %s operator converts whatever it sees into a string, including integers and floats. The %d operator converts numbers to integers first, without rounding. Note the difference below:"
   ]
  },
  {
   "cell_type": "code",
   "execution_count": 2,
   "id": "d5c360bd-d842-4a8e-8b2d-7ca77f6a2360",
   "metadata": {},
   "outputs": [
    {
     "name": "stdout",
     "output_type": "stream",
     "text": [
      "I wrote 3.75 programs today.\n",
      "I wrote 3 programs today.\n"
     ]
    }
   ],
   "source": [
    "print('I wrote %s programs today.' %3.75)\n",
    "print('I wrote %d programs today.' %3.75)   "
   ]
  },
  {
   "cell_type": "markdown",
   "id": "8191bfbd-61ec-4ff1-9352-2daf8bbb982d",
   "metadata": {},
   "source": [
    "#### Padding and Precision of Floating Point Numbers\n",
    "Floating point numbers use the format %5.2f. Here, 5 would be the minimum number of characters the string should contain; these may be padded with whitespace if the entire number does not have this many digits. Next to this, .2f stands for how many numbers to show past the decimal point."
   ]
  },
  {
   "cell_type": "code",
   "execution_count": 3,
   "id": "38a52071-1738-4f26-9ccb-b2e4e587bcd0",
   "metadata": {},
   "outputs": [
    {
     "name": "stdout",
     "output_type": "stream",
     "text": [
      "Floating point numbers: 13.14\n"
     ]
    }
   ],
   "source": [
    "print('Floating point numbers: %5.2f' %(13.144))"
   ]
  },
  {
   "cell_type": "code",
   "execution_count": 4,
   "id": "31118e7a-a336-42b8-b2fe-ad3e0e915df8",
   "metadata": {},
   "outputs": [
    {
     "name": "stdout",
     "output_type": "stream",
     "text": [
      "Floating point numbers: 13\n"
     ]
    }
   ],
   "source": [
    "print('Floating point numbers: %1.0f' %(13.144))"
   ]
  },
  {
   "cell_type": "code",
   "execution_count": 5,
   "id": "85314f50-fe32-4339-b826-7b1e386057b4",
   "metadata": {},
   "outputs": [
    {
     "name": "stdout",
     "output_type": "stream",
     "text": [
      "Floating point numbers: 13.14400\n"
     ]
    }
   ],
   "source": [
    "print('Floating point numbers: %1.5f' %(13.144))"
   ]
  },
  {
   "cell_type": "code",
   "execution_count": 6,
   "id": "3d9a9b08-658b-4241-b4bf-4509a42093d8",
   "metadata": {},
   "outputs": [
    {
     "name": "stdout",
     "output_type": "stream",
     "text": [
      "Floating point numbers:                     13.14\n"
     ]
    }
   ],
   "source": [
    "print('Floating point numbers: %25.2f' %(13.144))"
   ]
  },
  {
   "cell_type": "markdown",
   "id": "e7541f95-f603-4d74-9e4a-8c7e4ea5aed7",
   "metadata": {},
   "source": [
    "#### Multiple Formatting"
   ]
  },
  {
   "cell_type": "code",
   "execution_count": 8,
   "id": "d892baa9-1fae-4174-bf32-d07c73ee94ea",
   "metadata": {},
   "outputs": [
    {
     "name": "stdout",
     "output_type": "stream",
     "text": [
      "First: hi!, Second:  3.14, Third: 'bye!'\n"
     ]
    }
   ],
   "source": [
    "print('First: %s, Second: %5.2f, Third: %r' %('hi!',3.1415,'bye!'))"
   ]
  },
  {
   "cell_type": "markdown",
   "id": "4739eb6a-6509-40ed-8d4c-1bb9bedfa718",
   "metadata": {},
   "source": [
    "### Formatting with the .format() method\n",
    "A better way to format objects into your strings for print statements is with the string .format() method. The syntax is:\n",
    "\n",
    "    'String here {} then also {}'.format('something1','something2')\n",
    "\n",
    "For example:"
   ]
  },
  {
   "cell_type": "code",
   "execution_count": 9,
   "id": "c7a7d847-56a1-40b1-bb2c-e2a7d7d233be",
   "metadata": {},
   "outputs": [
    {
     "name": "stdout",
     "output_type": "stream",
     "text": [
      "This is a string with an insert\n"
     ]
    }
   ],
   "source": [
    "print('This is a string with an {}'.format('insert'))"
   ]
  },
  {
   "cell_type": "markdown",
   "id": "688bdcee-eaf2-4385-82df-a7aed78b5835",
   "metadata": {},
   "source": [
    "#### The .format() method has several advantages over the %s placeholder method:"
   ]
  },
  {
   "cell_type": "markdown",
   "id": "8d0ce8c7-3bf2-4719-ac53-d0cbb6ab71e8",
   "metadata": {},
   "source": [
    "##### 1. Inserted objects can be called by index position:"
   ]
  },
  {
   "cell_type": "code",
   "execution_count": 10,
   "id": "5bbabe81-6209-4eb1-8f26-058d75e42f35",
   "metadata": {},
   "outputs": [
    {
     "name": "stdout",
     "output_type": "stream",
     "text": [
      "The quick brown fox\n"
     ]
    }
   ],
   "source": [
    "print('The {2} {1} {0}'.format('fox','brown','quick'))"
   ]
  },
  {
   "cell_type": "markdown",
   "id": "71df807f-d105-490a-a37f-abd7c79dacba",
   "metadata": {},
   "source": [
    "##### 2. Inserted objects can be assigned keywords:"
   ]
  },
  {
   "cell_type": "code",
   "execution_count": 11,
   "id": "e6509439-4ad7-406a-9fc5-4044b284b7b0",
   "metadata": {},
   "outputs": [
    {
     "name": "stdout",
     "output_type": "stream",
     "text": [
      "First Object: 1, Second Object: Two, Third Object: 12.3\n"
     ]
    }
   ],
   "source": [
    "print('First Object: {a}, Second Object: {b}, Third Object: {c}'.format(a=1,b='Two',c=12.3))"
   ]
  },
  {
   "cell_type": "markdown",
   "id": "9ee2f91c-c9cb-445f-8d74-1f985249e01a",
   "metadata": {},
   "source": [
    "##### 3. Inserted objects can be reused, avoiding duplication:"
   ]
  },
  {
   "cell_type": "code",
   "execution_count": 12,
   "id": "3272934d-078d-4346-80fc-db5bad2d1de3",
   "metadata": {},
   "outputs": [
    {
     "name": "stdout",
     "output_type": "stream",
     "text": [
      "A penny saved is a penny earned.\n",
      "A penny saved is a penny earned.\n"
     ]
    }
   ],
   "source": [
    "print('A %s saved is a %s earned.' %('penny','penny'))\n",
    "# vs.\n",
    "print('A {p} saved is a {p} earned.'.format(p='penny'))"
   ]
  },
  {
   "cell_type": "markdown",
   "id": "d82f0a08-5dfc-475b-af7f-e6a6f922619a",
   "metadata": {},
   "source": [
    "#### Alignment, padding and precision with .format()\n",
    "Within the curly braces you can assign field lengths, left/right alignments, rounding parameters and more"
   ]
  },
  {
   "cell_type": "code",
   "execution_count": 18,
   "id": "4d629da9-64fa-4231-94b4-4b5b7724cad9",
   "metadata": {},
   "outputs": [
    {
     "name": "stdout",
     "output_type": "stream",
     "text": [
      "Fruit    | Quantity\n",
      "Apples   |      3.0\n",
      "Oranges  |       10\n"
     ]
    }
   ],
   "source": [
    "print('{0:8} | {1:8}'.format('Fruit', 'Quantity'))\n",
    "print('{0:8} | {1:8}'.format('Apples', 3.))\n",
    "print('{0:8} | {1:8}'.format('Oranges', 10))"
   ]
  },
  {
   "cell_type": "markdown",
   "id": "5bd52cde-0f3f-46af-9439-014bb4d29ca1",
   "metadata": {},
   "source": [
    "By default, .format() aligns text to the left, numbers to the right. You can pass an optional <,^, or > to set a left, center or right alignment:"
   ]
  },
  {
   "cell_type": "code",
   "execution_count": 19,
   "id": "ed3505ef-76e6-4171-a700-466a63628f88",
   "metadata": {},
   "outputs": [
    {
     "name": "stdout",
     "output_type": "stream",
     "text": [
      "Left     |  Center  |    Right\n",
      "11       |    22    |       33\n"
     ]
    }
   ],
   "source": [
    "print('{0:<8} | {1:^8} | {2:>8}'.format('Left','Center','Right'))\n",
    "print('{0:<8} | {1:^8} | {2:>8}'.format(11,22,33))"
   ]
  },
  {
   "cell_type": "markdown",
   "id": "328fb612-6a1f-49a6-bb35-42770585327f",
   "metadata": {},
   "source": [
    "You can precede the aligment operator with a padding character"
   ]
  },
  {
   "cell_type": "code",
   "execution_count": 22,
   "id": "4f1cda44-81f3-4113-ab06-b246f4b700f3",
   "metadata": {},
   "outputs": [
    {
     "name": "stdout",
     "output_type": "stream",
     "text": [
      "Right=== | -Center- | ...Right\n",
      "11====== | ---22--- | ......33\n"
     ]
    }
   ],
   "source": [
    "print('{0:=<8} | {1:-^8} | {2:.>8}'.format('Left','Center','Right'))\n",
    "print('{0:=<8} | {1:-^8} | {2:.>8}'.format(11,22,33))"
   ]
  },
  {
   "cell_type": "markdown",
   "id": "021ff393-acf4-414e-9261-1e38f46cd14e",
   "metadata": {},
   "source": [
    "Field widths and float precision are handled in a way similar to placeholders. The following two print statements are equivalent:"
   ]
  },
  {
   "cell_type": "code",
   "execution_count": 23,
   "id": "3227da24-1cf2-4b65-ac3f-dfd94e138883",
   "metadata": {},
   "outputs": [
    {
     "name": "stdout",
     "output_type": "stream",
     "text": [
      "This is my ten-character, two-decimal number:     13.58\n",
      "This is my ten-character, two-decimal number:     13.58\n"
     ]
    }
   ],
   "source": [
    "print('This is my ten-character, two-decimal number:%10.2f' %13.579)\n",
    "print('This is my ten-character, two-decimal number:{0:10.2f}'.format(13.579))"
   ]
  },
  {
   "cell_type": "markdown",
   "id": "2926046d-238b-427e-9bb6-eb817fafb7f9",
   "metadata": {},
   "source": [
    "### Formatted String Literals (f-strings)\n",
    "Introduced in Python 3.6, f-strings offer several benefits over the older .format() string method described above. For one, you can bring outside variables immediately into to the string rather than pass them as arguments through .format(var)."
   ]
  },
  {
   "cell_type": "code",
   "execution_count": 24,
   "id": "dff60e98-604f-410a-8050-c767b349f796",
   "metadata": {},
   "outputs": [
    {
     "name": "stdout",
     "output_type": "stream",
     "text": [
      "He said his name is Matata.\n"
     ]
    }
   ],
   "source": [
    "name = 'Matata'\n",
    "\n",
    "print(f\"He said his name is {name}.\")"
   ]
  },
  {
   "cell_type": "markdown",
   "id": "cac09d62-f341-4a94-b3bb-24c63fbae234",
   "metadata": {},
   "source": [
    "Pass !r to get the string representation:"
   ]
  },
  {
   "cell_type": "code",
   "execution_count": 25,
   "id": "7cfd76ec-aa29-4325-8c2a-e34d128a6170",
   "metadata": {},
   "outputs": [
    {
     "name": "stdout",
     "output_type": "stream",
     "text": [
      "He said his name is 'Matata'\n"
     ]
    }
   ],
   "source": [
    "print(f\"He said his name is {name!r}\")"
   ]
  },
  {
   "cell_type": "markdown",
   "id": "cdbbf075-c3a2-46a7-a5a8-6182210f6f62",
   "metadata": {},
   "source": [
    "#### Float formatting follows \"result: {value:{width}.{precision}}\"\n",
    "Where with the .format() method you might see {value:10.4f}, with f-strings this can become {value:{10}.{6}}"
   ]
  },
  {
   "cell_type": "code",
   "execution_count": 26,
   "id": "32209954-7130-4ffb-b759-3471bb4c12f7",
   "metadata": {},
   "outputs": [
    {
     "name": "stdout",
     "output_type": "stream",
     "text": [
      "My 10 character, four decimal number is:   23.4568\n",
      "My 10 character, four decimal number is:   23.4568\n"
     ]
    }
   ],
   "source": [
    "num = 23.45678\n",
    "print(\"My 10 character, four decimal number is:{0:10.4f}\".format(num))\n",
    "print(f\"My 10 character, four decimal number is:{num:{10}.{6}}\")"
   ]
  },
  {
   "cell_type": "markdown",
   "id": "5e123805-cf88-4ed0-82ed-da3b80600d43",
   "metadata": {},
   "source": [
    "Note that with f-strings, precision refers to the total number of digits, not just those following the decimal. This fits more closely with scientific notation and statistical analysis. Unfortunately, f-strings do not pad to the right of the decimal, even if precision allows it:"
   ]
  },
  {
   "cell_type": "code",
   "execution_count": 27,
   "id": "8c7ec6e0-a317-47ca-bdd6-42698b3e30f9",
   "metadata": {},
   "outputs": [
    {
     "name": "stdout",
     "output_type": "stream",
     "text": [
      "My 10 character, four decimal number is:   23.4500\n",
      "My 10 character, four decimal number is:     23.45\n"
     ]
    }
   ],
   "source": [
    "num = 23.45\n",
    "print(\"My 10 character, four decimal number is:{0:10.4f}\".format(num))\n",
    "print(f\"My 10 character, four decimal number is:{num:{10}.{6}}\")"
   ]
  },
  {
   "cell_type": "markdown",
   "id": "2926511b-8c19-4255-9613-e39e8313f888",
   "metadata": {},
   "source": [
    "If this becomes important, you can always use .format() method syntax inside an f-string:"
   ]
  },
  {
   "cell_type": "code",
   "execution_count": 28,
   "id": "2e7c09c9-6ae5-49be-9876-f4f485af3090",
   "metadata": {},
   "outputs": [
    {
     "name": "stdout",
     "output_type": "stream",
     "text": [
      "My 10 character, four decimal number is:   23.4500\n",
      "My 10 character, four decimal number is:   23.4500\n"
     ]
    }
   ],
   "source": [
    "num = 23.45\n",
    "print(\"My 10 character, four decimal number is:{0:10.4f}\".format(num))\n",
    "print(f\"My 10 character, four decimal number is:{num:10.4f}\")"
   ]
  }
 ],
 "metadata": {
  "kernelspec": {
   "display_name": "Python 3 (ipykernel)",
   "language": "python",
   "name": "python3"
  },
  "language_info": {
   "codemirror_mode": {
    "name": "ipython",
    "version": 3
   },
   "file_extension": ".py",
   "mimetype": "text/x-python",
   "name": "python",
   "nbconvert_exporter": "python",
   "pygments_lexer": "ipython3",
   "version": "3.12.4"
  }
 },
 "nbformat": 4,
 "nbformat_minor": 5
}
