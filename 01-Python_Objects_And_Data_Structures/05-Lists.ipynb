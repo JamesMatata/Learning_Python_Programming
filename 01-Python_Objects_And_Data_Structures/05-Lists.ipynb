{
 "cells": [
  {
   "cell_type": "markdown",
   "id": "336e29ea-07dc-4824-95dc-1204f8663451",
   "metadata": {},
   "source": [
    "## Lists\n",
    "In Python, a list is a collection data type that is ordered and mutable, meaning you can change its elements after it has been created. Lists are defined by placing elements inside square brackets [], separated by commas. They can hold items of different data types (such as integers, strings, and even other lists)."
   ]
  },
  {
   "cell_type": "code",
   "execution_count": 1,
   "id": "f2ce97c0-4854-43f8-97e8-87fd6b1ad558",
   "metadata": {},
   "outputs": [],
   "source": [
    "# Assign a list to an variable named my_list\n",
    "my_list = [1,2,3]"
   ]
  },
  {
   "cell_type": "code",
   "execution_count": 2,
   "id": "949a23e9-823d-4098-ba90-34880aa239b6",
   "metadata": {},
   "outputs": [],
   "source": [
    "my_list = ['A string',23,100.232,'o']"
   ]
  },
  {
   "cell_type": "markdown",
   "id": "f64b5095-8ee0-47c4-af30-749e9cd4e54e",
   "metadata": {},
   "source": [
    "Just like strings, the len() function will tell you how many items are in the sequence of the list."
   ]
  },
  {
   "cell_type": "code",
   "execution_count": 3,
   "id": "077988c0-4003-4a46-b45d-4974f170eebd",
   "metadata": {},
   "outputs": [
    {
     "data": {
      "text/plain": [
       "4"
      ]
     },
     "execution_count": 3,
     "metadata": {},
     "output_type": "execute_result"
    }
   ],
   "source": [
    "len(my_list)"
   ]
  },
  {
   "cell_type": "markdown",
   "id": "11e5d771-177b-4e14-8bf3-67d29fa17323",
   "metadata": {},
   "source": [
    "### Indexing and Slicing"
   ]
  },
  {
   "cell_type": "code",
   "execution_count": 4,
   "id": "04a303e0-7a2f-4389-8588-df9ac108e93b",
   "metadata": {},
   "outputs": [],
   "source": [
    "my_list = ['James', 100, 'MMU', 3.10]"
   ]
  },
  {
   "cell_type": "code",
   "execution_count": 7,
   "id": "ee5939b4-3af7-44fe-9dea-9da952d3acbd",
   "metadata": {},
   "outputs": [
    {
     "data": {
      "text/plain": [
       "'James'"
      ]
     },
     "execution_count": 7,
     "metadata": {},
     "output_type": "execute_result"
    }
   ],
   "source": [
    "# Grab element at index 0\n",
    "my_list[0]"
   ]
  },
  {
   "cell_type": "code",
   "execution_count": 8,
   "id": "4bd008a1-832f-4c84-ae99-32225ea629c3",
   "metadata": {},
   "outputs": [
    {
     "data": {
      "text/plain": [
       "[100, 'MMU', 3.1]"
      ]
     },
     "execution_count": 8,
     "metadata": {},
     "output_type": "execute_result"
    }
   ],
   "source": [
    "# Grab index 1 and everything past it\n",
    "my_list[1:]"
   ]
  },
  {
   "cell_type": "code",
   "execution_count": 10,
   "id": "419bb3c0-3fa0-4b3a-aa15-a91ba82eb6ef",
   "metadata": {},
   "outputs": [
    {
     "data": {
      "text/plain": [
       "['James', 100, 'MMU']"
      ]
     },
     "execution_count": 10,
     "metadata": {},
     "output_type": "execute_result"
    }
   ],
   "source": [
    "# Grab everything UP TO index 3\n",
    "my_list[:3]"
   ]
  },
  {
   "cell_type": "markdown",
   "id": "577c9c4d-007b-4392-b8bb-03aab9cfdaa5",
   "metadata": {},
   "source": [
    "We can also use + to concatenate lists, just like we did for strings."
   ]
  },
  {
   "cell_type": "code",
   "execution_count": 12,
   "id": "8e52c87c-011e-4046-b4ed-980c1e9b1f09",
   "metadata": {},
   "outputs": [
    {
     "data": {
      "text/plain": [
       "['James', 100, 'MMU', 3.1, 'Kenya']"
      ]
     },
     "execution_count": 12,
     "metadata": {},
     "output_type": "execute_result"
    }
   ],
   "source": [
    "my_list + ['Kenya']\n",
    "# Note: This doesn't actually change the original list!"
   ]
  },
  {
   "cell_type": "markdown",
   "id": "3b2748f6-ec0e-4606-af2b-783240f8066d",
   "metadata": {},
   "source": [
    "You would have to reassign the list to make the change permanent"
   ]
  },
  {
   "cell_type": "code",
   "execution_count": 13,
   "id": "a577ccf7-0451-46c2-ac62-1d9f23b0e79a",
   "metadata": {},
   "outputs": [],
   "source": [
    "# Reassign\n",
    "my_list = my_list + ['Kenya']"
   ]
  },
  {
   "cell_type": "code",
   "execution_count": 14,
   "id": "c42001c1-76a4-4f9e-bd10-bf2f254ce3c0",
   "metadata": {},
   "outputs": [
    {
     "data": {
      "text/plain": [
       "['James', 100, 'MMU', 3.1, 'Kenya']"
      ]
     },
     "execution_count": 14,
     "metadata": {},
     "output_type": "execute_result"
    }
   ],
   "source": [
    "my_list"
   ]
  },
  {
   "cell_type": "markdown",
   "id": "48f5e346-fdd5-4b7e-956f-220d17378739",
   "metadata": {},
   "source": [
    "We can also use the * for a duplication method similar to strings:"
   ]
  },
  {
   "cell_type": "code",
   "execution_count": 16,
   "id": "93a1e5ef-a5d7-4cad-b67d-8c35bcb55bb0",
   "metadata": {},
   "outputs": [
    {
     "data": {
      "text/plain": [
       "['James', 100, 'MMU', 3.1, 'Kenya', 'James', 100, 'MMU', 3.1, 'Kenya']"
      ]
     },
     "execution_count": 16,
     "metadata": {},
     "output_type": "execute_result"
    }
   ],
   "source": [
    "# Make the list double\n",
    "my_list * 2\n",
    "# Again doubling not permanent"
   ]
  },
  {
   "cell_type": "markdown",
   "id": "bfbb6d98-eefd-45e6-842a-be3100683c91",
   "metadata": {},
   "source": [
    "### Basic List Methods"
   ]
  },
  {
   "cell_type": "code",
   "execution_count": 17,
   "id": "293f0542-bd06-4247-b473-2eaef8b99a99",
   "metadata": {},
   "outputs": [],
   "source": [
    "list1 = [1,2,3]"
   ]
  },
  {
   "cell_type": "markdown",
   "id": "99216820-f5a2-47fc-91d7-528cc1519260",
   "metadata": {},
   "source": [
    "1. Use the append method to permanently add an item to the end of a list:"
   ]
  },
  {
   "cell_type": "code",
   "execution_count": 18,
   "id": "3347cc4b-25e7-4180-a62d-5ae9a70d5391",
   "metadata": {},
   "outputs": [],
   "source": [
    "# Append\n",
    "list1.append(4)"
   ]
  },
  {
   "cell_type": "code",
   "execution_count": 19,
   "id": "8ead0815-951d-4109-b269-34d8f21fbc96",
   "metadata": {},
   "outputs": [
    {
     "data": {
      "text/plain": [
       "[1, 2, 3, 4]"
      ]
     },
     "execution_count": 19,
     "metadata": {},
     "output_type": "execute_result"
    }
   ],
   "source": [
    "list1"
   ]
  },
  {
   "cell_type": "markdown",
   "id": "85945a0c-d132-41d2-960b-9b9fbde0c110",
   "metadata": {},
   "source": [
    "2. Use pop to \"pop off\" an item from the list. By default pop takes off the last index, but you can also specify which index to pop off."
   ]
  },
  {
   "cell_type": "code",
   "execution_count": 20,
   "id": "818dcf40-f8ee-428c-a598-2d554cb0c7de",
   "metadata": {},
   "outputs": [
    {
     "data": {
      "text/plain": [
       "1"
      ]
     },
     "execution_count": 20,
     "metadata": {},
     "output_type": "execute_result"
    }
   ],
   "source": [
    "# Pop off the 0 indexed item\n",
    "list1.pop(0)"
   ]
  },
  {
   "cell_type": "code",
   "execution_count": 21,
   "id": "b44c8cdc-8715-4a56-a522-18235f1bd1a2",
   "metadata": {},
   "outputs": [
    {
     "data": {
      "text/plain": [
       "[2, 3, 4]"
      ]
     },
     "execution_count": 21,
     "metadata": {},
     "output_type": "execute_result"
    }
   ],
   "source": [
    "list1"
   ]
  },
  {
   "cell_type": "code",
   "execution_count": 22,
   "id": "1e49fae4-cab3-4d97-ae32-f7dcbd9133a7",
   "metadata": {},
   "outputs": [],
   "source": [
    "# Assign the popped element, remember default popped index is -1\n",
    "popped_item = list1.pop()"
   ]
  },
  {
   "cell_type": "code",
   "execution_count": 23,
   "id": "9a800b6a-76b6-47b0-8385-1d2032c59949",
   "metadata": {},
   "outputs": [
    {
     "data": {
      "text/plain": [
       "4"
      ]
     },
     "execution_count": 23,
     "metadata": {},
     "output_type": "execute_result"
    }
   ],
   "source": [
    "popped_item"
   ]
  },
  {
   "cell_type": "code",
   "execution_count": 24,
   "id": "f13e2b4f-7be3-4a91-9836-16aaaf66fc44",
   "metadata": {},
   "outputs": [
    {
     "data": {
      "text/plain": [
       "[2, 3]"
      ]
     },
     "execution_count": 24,
     "metadata": {},
     "output_type": "execute_result"
    }
   ],
   "source": [
    "list1"
   ]
  },
  {
   "cell_type": "markdown",
   "id": "120daa5b-a6d4-4472-b2f8-cf6db96d9f51",
   "metadata": {},
   "source": [
    "It should also be noted that lists indexing will return an error if there is no element at that index. For example:"
   ]
  },
  {
   "cell_type": "code",
   "execution_count": 25,
   "id": "61a32e8c-bd74-47d3-9815-5373ec1dd328",
   "metadata": {},
   "outputs": [
    {
     "ename": "IndexError",
     "evalue": "list index out of range",
     "output_type": "error",
     "traceback": [
      "\u001b[1;31m---------------------------------------------------------------------------\u001b[0m",
      "\u001b[1;31mIndexError\u001b[0m                                Traceback (most recent call last)",
      "Cell \u001b[1;32mIn[25], line 1\u001b[0m\n\u001b[1;32m----> 1\u001b[0m list1[\u001b[38;5;241m100\u001b[39m]\n",
      "\u001b[1;31mIndexError\u001b[0m: list index out of range"
     ]
    }
   ],
   "source": [
    "list1[100]"
   ]
  },
  {
   "cell_type": "markdown",
   "id": "4522d954-cf76-43e1-850d-002ed43ba67d",
   "metadata": {},
   "source": [
    "3. We can use the sort method and the reverse methods to also effect your lists:"
   ]
  },
  {
   "cell_type": "code",
   "execution_count": 26,
   "id": "8859a124-5de1-499c-97bb-d6ccbb7bfe14",
   "metadata": {},
   "outputs": [],
   "source": [
    "new_list = ['a','e','x','b','c']"
   ]
  },
  {
   "cell_type": "code",
   "execution_count": 27,
   "id": "ac1d98bf-10dc-40d8-a338-cb85d26fb1f5",
   "metadata": {},
   "outputs": [
    {
     "data": {
      "text/plain": [
       "['a', 'e', 'x', 'b', 'c']"
      ]
     },
     "execution_count": 27,
     "metadata": {},
     "output_type": "execute_result"
    }
   ],
   "source": [
    "new_list"
   ]
  },
  {
   "cell_type": "code",
   "execution_count": 34,
   "id": "0ef58b84-ab77-4f1a-9a35-72b3460d6cc3",
   "metadata": {},
   "outputs": [],
   "source": [
    "# Use reverse to reverse order (this is permanent!)\n",
    "new_list.reverse()"
   ]
  },
  {
   "cell_type": "code",
   "execution_count": 35,
   "id": "b2cc56e8-7d5e-4775-a0aa-f28c0471f240",
   "metadata": {},
   "outputs": [
    {
     "data": {
      "text/plain": [
       "['x', 'e', 'c', 'b', 'a']"
      ]
     },
     "execution_count": 35,
     "metadata": {},
     "output_type": "execute_result"
    }
   ],
   "source": [
    "new_list"
   ]
  },
  {
   "cell_type": "code",
   "execution_count": 36,
   "id": "c029a436-e643-4979-924d-d087fcbd76b0",
   "metadata": {},
   "outputs": [],
   "source": [
    "# Use sort to sort the list (in this case alphabetical order, but for numbers it will go ascending)\n",
    "new_list.sort()"
   ]
  },
  {
   "cell_type": "code",
   "execution_count": 37,
   "id": "e5289f88-77c0-4ee0-9aa4-2e41158d949f",
   "metadata": {},
   "outputs": [
    {
     "data": {
      "text/plain": [
       "['a', 'b', 'c', 'e', 'x']"
      ]
     },
     "execution_count": 37,
     "metadata": {},
     "output_type": "execute_result"
    }
   ],
   "source": [
    "new_list"
   ]
  },
  {
   "cell_type": "markdown",
   "id": "e4d4030e-ea35-48c8-bbc5-b73b5f7eb582",
   "metadata": {},
   "source": [
    "### Nesting Lists\n",
    "A great feature of of Python data structures is that they support nesting. This means we can have data structures within data structures. For example: A list inside a list."
   ]
  },
  {
   "cell_type": "code",
   "execution_count": 38,
   "id": "7fa509e2-dd20-49f5-9152-0fb80cbe0184",
   "metadata": {},
   "outputs": [],
   "source": [
    "# Let's make three lists\n",
    "lst_1=[1,2,3]\n",
    "lst_2=[4,5,6]\n",
    "lst_3=[7,8,9]\n",
    "\n",
    "# Make a list of lists to form a matrix\n",
    "matrix = [lst_1,lst_2,lst_3]"
   ]
  },
  {
   "cell_type": "code",
   "execution_count": 39,
   "id": "b1f6a019-ba73-428d-a63b-2694921fa2ae",
   "metadata": {},
   "outputs": [
    {
     "data": {
      "text/plain": [
       "[[1, 2, 3], [4, 5, 6], [7, 8, 9]]"
      ]
     },
     "execution_count": 39,
     "metadata": {},
     "output_type": "execute_result"
    }
   ],
   "source": [
    "matrix"
   ]
  },
  {
   "cell_type": "markdown",
   "id": "aa17441d-74dd-4974-89d9-e73a0b574afe",
   "metadata": {},
   "source": [
    "We can again use indexing to grab elements, but now there are two levels for the index. The items in the matrix object, and then the items inside that list!"
   ]
  },
  {
   "cell_type": "code",
   "execution_count": 41,
   "id": "abceaf0e-e355-431b-b5a3-15a0e1ac8bfc",
   "metadata": {},
   "outputs": [
    {
     "data": {
      "text/plain": [
       "[1, 2, 3]"
      ]
     },
     "execution_count": 41,
     "metadata": {},
     "output_type": "execute_result"
    }
   ],
   "source": [
    "# Grab first item in matrix object\n",
    "matrix[0]"
   ]
  },
  {
   "cell_type": "code",
   "execution_count": 42,
   "id": "acc51185-0a6e-421a-8584-bf4ec736ddc2",
   "metadata": {},
   "outputs": [
    {
     "data": {
      "text/plain": [
       "1"
      ]
     },
     "execution_count": 42,
     "metadata": {},
     "output_type": "execute_result"
    }
   ],
   "source": [
    "# Grab first item of the first item in the matrix object\n",
    "matrix[0][0]"
   ]
  }
 ],
 "metadata": {
  "kernelspec": {
   "display_name": "Python 3 (ipykernel)",
   "language": "python",
   "name": "python3"
  },
  "language_info": {
   "codemirror_mode": {
    "name": "ipython",
    "version": 3
   },
   "file_extension": ".py",
   "mimetype": "text/x-python",
   "name": "python",
   "nbconvert_exporter": "python",
   "pygments_lexer": "ipython3",
   "version": "3.12.4"
  }
 },
 "nbformat": 4,
 "nbformat_minor": 5
}
