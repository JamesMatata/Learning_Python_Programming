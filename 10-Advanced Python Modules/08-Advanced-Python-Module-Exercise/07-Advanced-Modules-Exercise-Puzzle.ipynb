{
 "cells": [
  {
   "cell_type": "markdown",
   "metadata": {},
   "source": [
    "# Advanced Modules Exercise Puzzle\n",
    "\n",
    "It's time to test your new skills, this puzzle project will combine multiple skills sets, including unzipping files with Python, using os module to automatically search through lots of files.\n",
    "\n",
    "## Your Goal\n",
    "\n",
    "This is a puzzle, so we don't want to give you too much guidance and instead have you figure out things on your own.\n",
    "\n",
    "There is a .zip file called 'unzip_me_for_instructions.zip', unzip it, open the .txt file with Python, read the instructions and see if you can figure out what you need to do!\n",
    "\n",
    "**If you get stuck or don't know where to start, here is a [guide/hints](https://docs.google.com/document/d/1JxydUr4n4fSR0EwwuwT-aHia-yPK6r-oTBuVT2sqheo/edit?usp=sharing)**"
   ]
  },
  {
   "cell_type": "code",
   "execution_count": 1,
   "metadata": {},
   "outputs": [
    {
     "data": {
      "text/plain": [
       "'C:\\\\Users\\\\James Matata\\\\Desktop\\\\CodeWizard\\\\Python_Programming\\\\Complete-Python-3-Bootcamp\\\\12-Advanced Python Modules\\\\08-Advanced-Python-Module-Exercise'"
      ]
     },
     "execution_count": 1,
     "metadata": {},
     "output_type": "execute_result"
    }
   ],
   "source": [
    "pwd"
   ]
  },
  {
   "cell_type": "code",
   "execution_count": 3,
   "metadata": {},
   "outputs": [],
   "source": [
    "import shutil"
   ]
  },
  {
   "cell_type": "code",
   "execution_count": 7,
   "metadata": {},
   "outputs": [],
   "source": [
    "shutil.unpack_archive('unzip_me_for_instructions.zip', 'instructions', 'zip')"
   ]
  },
  {
   "cell_type": "code",
   "execution_count": 15,
   "metadata": {},
   "outputs": [],
   "source": [
    "import os\n",
    "import re"
   ]
  },
  {
   "cell_type": "code",
   "execution_count": 43,
   "metadata": {},
   "outputs": [
    {
     "name": "stdout",
     "output_type": "stream",
     "text": [
      "['719-266-2837']\n"
     ]
    }
   ],
   "source": [
    "results = []\n",
    "for folder, sub_folders , files in os.walk('instructions\\\\extracted_content'):\n",
    "    for f in files:\n",
    "        path = folder + '\\\\' + f\n",
    "        opened_file = open(path, 'r+')\n",
    "        phone_pattern = re.compile(r'(\\d{3})-(\\d{3})-(\\d{4})')\n",
    "        phone_number = re.search(phone_pattern, opened_file.read())\n",
    "        if phone_number:\n",
    "            results.append(phone_number.group())\n",
    "\n",
    "print(results)"
   ]
  },
  {
   "cell_type": "code",
   "execution_count": 47,
   "metadata": {},
   "outputs": [
    {
     "name": "stdout",
     "output_type": "stream",
     "text": [
      "(1, 2, 3)\n",
      "\n",
      "\n",
      "(4, 5, 6)\n",
      "\n",
      "\n",
      "(7, 8, 9)\n",
      "\n",
      "\n",
      "(1, 2, 3)\n",
      "\n",
      "\n",
      "(4, 5, 6)\n",
      "\n",
      "\n",
      "(7, 8, 9)\n",
      "\n",
      "\n",
      "(1, 2, 3)\n",
      "\n",
      "\n",
      "(4, 5, 6)\n",
      "\n",
      "\n",
      "(7, 8, 9)\n",
      "\n",
      "\n"
     ]
    }
   ],
   "source": [
    "tuple = (((1,2,3), (4,5,6), (7,8,9)),((1,2,3), (4,5,6), (7,8,9)),((1,2,3), (4,5,6), (7,8,9)))\n",
    "for a,b,c in tuple:\n",
    "    print(a)\n",
    "    print('\\n')\n",
    "    print(b)\n",
    "    print('\\n')\n",
    "    print(c)\n",
    "    print('\\n')"
   ]
  },
  {
   "cell_type": "code",
   "execution_count": null,
   "metadata": {},
   "outputs": [],
   "source": []
  }
 ],
 "metadata": {
  "anaconda-cloud": {},
  "kernelspec": {
   "display_name": "Python 3 (ipykernel)",
   "language": "python",
   "name": "python3"
  },
  "language_info": {
   "codemirror_mode": {
    "name": "ipython",
    "version": 3
   },
   "file_extension": ".py",
   "mimetype": "text/x-python",
   "name": "python",
   "nbconvert_exporter": "python",
   "pygments_lexer": "ipython3",
   "version": "3.12.4"
  }
 },
 "nbformat": 4,
 "nbformat_minor": 4
}
