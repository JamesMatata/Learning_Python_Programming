{
 "cells": [
  {
   "cell_type": "code",
   "execution_count": 19,
   "id": "3bca1557-c4ae-43c8-9ebf-01bda4e33ae0",
   "metadata": {},
   "outputs": [],
   "source": [
    "class Person():\n",
    "    species = 'Mammal'\n",
    "    def __init__(self, name, gender):\n",
    "        self.name = name\n",
    "        self.gender = gender\n",
    "\n",
    "    def eating(self):\n",
    "        print(f\"{self.name} is eating\")\n",
    "\n",
    "class Student(Person):\n",
    "    def eating(self):\n",
    "        print(f\"Student {self.name} is eating\")\n",
    "\n",
    "student_1 = Student('James', 'Male')"
   ]
  },
  {
   "cell_type": "code",
   "execution_count": 21,
   "id": "cc92ad31-32b0-4fde-867e-c3527eedc0cf",
   "metadata": {},
   "outputs": [
    {
     "name": "stdout",
     "output_type": "stream",
     "text": [
      "Student James is eating\n"
     ]
    }
   ],
   "source": [
    "student_1.eating()"
   ]
  },
  {
   "cell_type": "code",
   "execution_count": 17,
   "id": "43c5677f-0d27-4562-bf55-6930042d7579",
   "metadata": {},
   "outputs": [
    {
     "data": {
      "text/plain": [
       "'James'"
      ]
     },
     "execution_count": 17,
     "metadata": {},
     "output_type": "execute_result"
    }
   ],
   "source": [
    "student_1.name"
   ]
  },
  {
   "cell_type": "code",
   "execution_count": null,
   "id": "e632cccc-6274-4f7e-b8b0-0b6fd4f705b0",
   "metadata": {},
   "outputs": [],
   "source": []
  }
 ],
 "metadata": {
  "kernelspec": {
   "display_name": "Python 3 (ipykernel)",
   "language": "python",
   "name": "python3"
  },
  "language_info": {
   "codemirror_mode": {
    "name": "ipython",
    "version": 3
   },
   "file_extension": ".py",
   "mimetype": "text/x-python",
   "name": "python",
   "nbconvert_exporter": "python",
   "pygments_lexer": "ipython3",
   "version": "3.12.4"
  }
 },
 "nbformat": 4,
 "nbformat_minor": 5
}
